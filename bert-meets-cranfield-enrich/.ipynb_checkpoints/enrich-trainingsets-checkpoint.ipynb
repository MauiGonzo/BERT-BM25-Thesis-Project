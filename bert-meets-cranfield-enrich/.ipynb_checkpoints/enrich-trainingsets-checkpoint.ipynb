{
 "cells": [
  {
   "cell_type": "markdown",
   "metadata": {
    "id": "-t_ZMd4LeXgL"
   },
   "source": [
    "# BERT Meets Cranfield - Enrichment and Transfer Learning Approach\n",
    "The BM25 step finds a significant portion of the relevant documents for each query, but not all. The following notebooks implements a function that enriches the training set to find wether it would be benficial include those missed documents."
   ]
  },
  {
   "cell_type": "code",
   "execution_count": 1,
   "metadata": {
    "colab": {
     "base_uri": "https://localhost:8080/"
    },
    "executionInfo": {
     "elapsed": 232,
     "status": "ok",
     "timestamp": 1631777789719,
     "user": {
      "displayName": "Maurice Verbrugge",
      "photoUrl": "https://lh3.googleusercontent.com/a-/AOh14GgqmdBO0giQPluidHjemi6aWvts_C_AZ5rqt1Y4yA=s64",
      "userId": "18106956806494538064"
     },
     "user_tz": -120
    },
    "id": "Fss4AAPjsdc2",
    "outputId": "6551be8e-3d02-4c9d-ebe2-8ea961d7ce9a"
   },
   "outputs": [
    {
     "name": "stdout",
     "output_type": "stream",
     "text": [
      "/home/jupyter/BERT-BM25-Thesis-Project/bert-meets-cranfield-enrich/Code\n"
     ]
    }
   ],
   "source": [
    "# %cd /content/drive/MyDrive/COMPUTING SCIENCE/THESIS_PROJECT/bert-meets-cranfield-enrich/Code\n",
    "%cd /home/jupyter/BERT-BM25-Thesis-Project/bert-meets-cranfield-enrich/Code"
   ]
  },
  {
   "cell_type": "code",
   "execution_count": 2,
   "metadata": {
    "colab": {
     "background_save": true,
     "base_uri": "https://localhost:8080/"
    },
    "id": "vRlcr2u0fL5q"
   },
   "outputs": [
    {
     "name": "stdout",
     "output_type": "stream",
     "text": [
      "Requirement already satisfied: numpy>=1.19.1 in /opt/conda/lib/python3.7/site-packages (from -r ../requirements.txt (line 1)) (1.19.5)\n",
      "Requirement already satisfied: scipy>=1.5.2 in /opt/conda/lib/python3.7/site-packages (from -r ../requirements.txt (line 2)) (1.7.1)\n",
      "Requirement already satisfied: rank_bm25>=0.2.1 in /opt/conda/lib/python3.7/site-packages (from -r ../requirements.txt (line 3)) (0.2.1)\n",
      "Requirement already satisfied: transformers>=3.1.0 in /opt/conda/lib/python3.7/site-packages (from -r ../requirements.txt (line 4)) (4.10.2)\n",
      "Requirement already satisfied: torch>=1.6.0 in /opt/conda/lib/python3.7/site-packages (from -r ../requirements.txt (line 5)) (1.9.0)\n",
      "Requirement already satisfied: regex!=2019.12.17 in /opt/conda/lib/python3.7/site-packages (from transformers>=3.1.0->-r ../requirements.txt (line 4)) (2021.8.28)\n",
      "Requirement already satisfied: sacremoses in /opt/conda/lib/python3.7/site-packages (from transformers>=3.1.0->-r ../requirements.txt (line 4)) (0.0.45)\n",
      "Requirement already satisfied: tqdm>=4.27 in /opt/conda/lib/python3.7/site-packages (from transformers>=3.1.0->-r ../requirements.txt (line 4)) (4.62.2)\n",
      "Requirement already satisfied: packaging in /opt/conda/lib/python3.7/site-packages (from transformers>=3.1.0->-r ../requirements.txt (line 4)) (21.0)\n",
      "Requirement already satisfied: importlib-metadata in /opt/conda/lib/python3.7/site-packages (from transformers>=3.1.0->-r ../requirements.txt (line 4)) (4.8.1)\n",
      "Requirement already satisfied: requests in /opt/conda/lib/python3.7/site-packages (from transformers>=3.1.0->-r ../requirements.txt (line 4)) (2.25.1)\n",
      "Requirement already satisfied: huggingface-hub>=0.0.12 in /opt/conda/lib/python3.7/site-packages (from transformers>=3.1.0->-r ../requirements.txt (line 4)) (0.0.17)\n",
      "Requirement already satisfied: filelock in /opt/conda/lib/python3.7/site-packages (from transformers>=3.1.0->-r ../requirements.txt (line 4)) (3.0.12)\n",
      "Requirement already satisfied: tokenizers<0.11,>=0.10.1 in /opt/conda/lib/python3.7/site-packages (from transformers>=3.1.0->-r ../requirements.txt (line 4)) (0.10.3)\n",
      "Requirement already satisfied: pyyaml>=5.1 in /opt/conda/lib/python3.7/site-packages (from transformers>=3.1.0->-r ../requirements.txt (line 4)) (5.4.1)\n",
      "Requirement already satisfied: typing-extensions in /opt/conda/lib/python3.7/site-packages (from torch>=1.6.0->-r ../requirements.txt (line 5)) (3.10.0.0)\n",
      "Requirement already satisfied: pyparsing>=2.0.2 in /opt/conda/lib/python3.7/site-packages (from packaging->transformers>=3.1.0->-r ../requirements.txt (line 4)) (2.4.7)\n",
      "Requirement already satisfied: zipp>=0.5 in /opt/conda/lib/python3.7/site-packages (from importlib-metadata->transformers>=3.1.0->-r ../requirements.txt (line 4)) (3.5.0)\n",
      "Requirement already satisfied: idna<3,>=2.5 in /opt/conda/lib/python3.7/site-packages (from requests->transformers>=3.1.0->-r ../requirements.txt (line 4)) (2.10)\n",
      "Requirement already satisfied: certifi>=2017.4.17 in /opt/conda/lib/python3.7/site-packages (from requests->transformers>=3.1.0->-r ../requirements.txt (line 4)) (2021.5.30)\n",
      "Requirement already satisfied: urllib3<1.27,>=1.21.1 in /opt/conda/lib/python3.7/site-packages (from requests->transformers>=3.1.0->-r ../requirements.txt (line 4)) (1.26.6)\n",
      "Requirement already satisfied: chardet<5,>=3.0.2 in /opt/conda/lib/python3.7/site-packages (from requests->transformers>=3.1.0->-r ../requirements.txt (line 4)) (4.0.0)\n",
      "Requirement already satisfied: joblib in /opt/conda/lib/python3.7/site-packages (from sacremoses->transformers>=3.1.0->-r ../requirements.txt (line 4)) (1.0.1)\n",
      "Requirement already satisfied: click in /opt/conda/lib/python3.7/site-packages (from sacremoses->transformers>=3.1.0->-r ../requirements.txt (line 4)) (8.0.1)\n",
      "Requirement already satisfied: six in /opt/conda/lib/python3.7/site-packages (from sacremoses->transformers>=3.1.0->-r ../requirements.txt (line 4)) (1.16.0)\n"
     ]
    }
   ],
   "source": [
    "!pip3 install -r ../requirements.txt"
   ]
  },
  {
   "cell_type": "markdown",
   "metadata": {
    "id": "gVLKhUhufNbM"
   },
   "source": [
    "## Import"
   ]
  },
  {
   "cell_type": "code",
   "execution_count": 3,
   "metadata": {
    "id": "mOM6kY43fQ7U"
   },
   "outputs": [],
   "source": [
    "import utils\n",
    "import data_utils\n",
    "from operator import itemgetter\n",
    "import os\n",
    "import numpy as np\n",
    "\n",
    "import torch\n",
    "import importlib\n",
    "# from transformers import BertForSequenceClassification, BertTokenizer, BertForMaskedLM, BertForNextSentencePrediction\n",
    "\n",
    "import timeit"
   ]
  },
  {
   "cell_type": "markdown",
   "metadata": {
    "id": "DRuHYyUifVsk"
   },
   "source": [
    "### Import Refresh\n",
    "When a supporting py-file (such as utils.py) is changed, this code will have the lib reloaded while not reloading the entire notebook."
   ]
  },
  {
   "cell_type": "code",
   "execution_count": 4,
   "metadata": {
    "id": "wDay4M8afTKL"
   },
   "outputs": [
    {
     "data": {
      "text/plain": [
       "<module 'data_utils' from '/home/jupyter/BERT-BM25-Thesis-Project/bert-meets-cranfield-enrich/Code/data_utils.py'>"
      ]
     },
     "execution_count": 4,
     "metadata": {},
     "output_type": "execute_result"
    }
   ],
   "source": [
    "# call after making any changes in utils.py\n",
    "importlib.reload(utils) \n",
    "importlib.reload(data_utils)"
   ]
  },
  {
   "cell_type": "markdown",
   "metadata": {
    "id": "mznu8BEmf2ds"
   },
   "source": [
    "## Set hyper-paramters and test settings"
   ]
  },
  {
   "cell_type": "code",
   "execution_count": 17,
   "metadata": {
    "id": "ai5fO45Wf1qT"
   },
   "outputs": [],
   "source": [
    "\n",
    "# ========================================\n",
    "#               Hyper-Parameters\n",
    "# ========================================\n",
    "SEED = 76\n",
    "MODE = 'Re-ranker'\n",
    "MODEL_TYPE = 'bert-base-uncased'\n",
    "LEARNING_RATE = 3e-5\n",
    "MAX_LENGTH = 128\n",
    "BATCH_SIZE = 32\n",
    "EPOCHS = 2\n",
    "TOP_BM25 = 100\n",
    "MAP_CUT = 100\n",
    "NDCG_CUT = 20\n",
    "if MODE == 'Full-ranker':\n",
    "    TEST_BATCH_SIZE = 1400\n",
    "else:\n",
    "    TEST_BATCH_SIZE = 100\n",
    "\n",
    "# Set the seed value all over the place to make this reproducible.\n",
    "utils.initialize_random_generators(SEED)\n",
    "\n",
    "BM25_ENRICH = 'swap' # or 'add' or 'swap' (default=no enrichment of BM25 results)"
   ]
  },
  {
   "cell_type": "markdown",
   "metadata": {},
   "source": [
    "### Enriching function for BM25 results"
   ]
  },
  {
   "cell_type": "code",
   "execution_count": 15,
   "metadata": {},
   "outputs": [],
   "source": [
    "def get_bm25_plus_other_rel(bm25_tn, labels, queries):\n",
    "      bm25_top_n_rel_padded = [0]*len(queries) # a bm25_top_n list padded with the remaining relevant documents\n",
    "      bm25_top_n_swap = [0]*len(queries) \n",
    "    \n",
    "      for qi in range(len(queries)):\n",
    "        # get the list of relelvant documents\n",
    "        lbi = np.where(labels[qi] == 1)\n",
    "        # note this numbering is only compatible with the labels list\n",
    "\n",
    "\n",
    "        # get the list of bm25_top_n\n",
    "        np_bm25_qi_docs = np.array(bm25_top_n[qi]) \n",
    "\n",
    "        # evaluate what relevant documents should be added\n",
    "        pad_rel = np.setdiff1d(lbi, np_bm25_qi_docs)\n",
    "        # if len(pad_rel) > 0:\n",
    "        pad_rel = tuple(pad_rel)\n",
    "        bm25_top_n_rel_padded[qi] = bm25_top_n[qi] + pad_rel\n",
    "        # create a list with least relevant items swapped for unfound relevant\n",
    "        for i in range(len(pad_rel)):\n",
    "          # CHECK\n",
    "          # are we to swap a relevant document?\n",
    "          current_doc = np_bm25_qi_docs[-(i+1)] \n",
    "          \n",
    "          if np.count_nonzero(current_doc == lbi) > 0:\n",
    "            print('Relevant doc overwritten!')\n",
    "          # CONTINUE  \n",
    "          np_bm25_qi_docs[-(i+1)] = pad_rel[i]\n",
    "          \n",
    "        bm25_top_n_swap[qi] = np_bm25_qi_docs\n",
    "      return bm25_top_n_rel_padded, bm25_top_n_swap"
   ]
  },
  {
   "cell_type": "markdown",
   "metadata": {
    "id": "7og1VnHhgcsL"
   },
   "source": [
    "## Train and Test"
   ]
  },
  {
   "cell_type": "code",
   "execution_count": 18,
   "metadata": {
    "id": "3jAyQHGhgbFH"
   },
   "outputs": [
    {
     "name": "stdout",
     "output_type": "stream",
     "text": [
      "# ========================================\n",
      "#               Hyper-Parameters\n",
      "Re-ranker\n",
      "bert-base-uncased\n",
      "3e-05\n",
      "128\n",
      "32\n",
      "2\n",
      "# ========================================\n",
      "#               Experiment-Settings\n",
      "BM25_ENRICHMENT:  swap\n",
      "# ========================================\n",
      "#               Other\n",
      "Tesla T4\n",
      "# ========================================\n",
      "GPU Type: Tesla T4\n",
      "Relevant doc overwritten!\n",
      "Relevant doc overwritten!\n",
      "Relevant doc overwritten!\n",
      "Relevant doc overwritten!\n",
      "Relevant doc overwritten!\n",
      "Relevant doc overwritten!\n",
      "Relevant doc overwritten!\n",
      "Relevant doc overwritten!\n",
      "Relevant doc overwritten!\n",
      "Relevant doc overwritten!\n",
      "======== Fold 1 / 5 ========\n",
      "MRR:  0.7837\n",
      "MAP:  0.3493\n",
      "NDCG: 0.5011\n",
      "45\n"
     ]
    },
    {
     "name": "stderr",
     "output_type": "stream",
     "text": [
      "Some weights of the model checkpoint at bert-base-uncased were not used when initializing BertForSequenceClassification: ['cls.seq_relationship.bias', 'cls.predictions.transform.LayerNorm.bias', 'cls.predictions.decoder.weight', 'cls.predictions.transform.LayerNorm.weight', 'cls.seq_relationship.weight', 'cls.predictions.transform.dense.weight', 'cls.predictions.bias', 'cls.predictions.transform.dense.bias']\n",
      "- This IS expected if you are initializing BertForSequenceClassification from the checkpoint of a model trained on another task or with another architecture (e.g. initializing a BertForSequenceClassification model from a BertForPreTraining model).\n",
      "- This IS NOT expected if you are initializing BertForSequenceClassification from the checkpoint of a model that you expect to be exactly identical (initializing a BertForSequenceClassification model from a BertForSequenceClassification model).\n",
      "Some weights of BertForSequenceClassification were not initialized from the model checkpoint at bert-base-uncased and are newly initialized: ['classifier.bias', 'classifier.weight']\n",
      "You should probably TRAIN this model on a down-stream task to be able to use it for predictions and inference.\n"
     ]
    },
    {
     "name": "stdout",
     "output_type": "stream",
     "text": [
      "======== Epoch 1 / 2 ========\n",
      "Training...\n",
      "  Batch   100  of    563.\n",
      "  Batch   200  of    563.\n",
      "  Batch   300  of    563.\n",
      "  Batch   400  of    563.\n",
      "  Batch   500  of    563.\n",
      "  Average training loss: 0.2311\n",
      "======== Epoch 2 / 2 ========\n",
      "Training...\n",
      "  Batch   100  of    563.\n",
      "  Batch   200  of    563.\n",
      "  Batch   300  of    563.\n",
      "  Batch   400  of    563.\n",
      "  Batch   500  of    563.\n",
      "  Average training loss: 0.1615\n",
      "Testing...\n",
      "  Test MRR:  0.8177\n",
      "  Test MAP:  0.4055\n",
      "  Test NDCG: 0.5413\n",
      "45\n",
      "======== Fold 2 / 5 ========\n",
      "MRR:  0.6596\n",
      "MAP:  0.3036\n",
      "NDCG: 0.4546\n",
      "90\n"
     ]
    },
    {
     "name": "stderr",
     "output_type": "stream",
     "text": [
      "Some weights of the model checkpoint at bert-base-uncased were not used when initializing BertForSequenceClassification: ['cls.seq_relationship.bias', 'cls.predictions.transform.LayerNorm.bias', 'cls.predictions.decoder.weight', 'cls.predictions.transform.LayerNorm.weight', 'cls.seq_relationship.weight', 'cls.predictions.transform.dense.weight', 'cls.predictions.bias', 'cls.predictions.transform.dense.bias']\n",
      "- This IS expected if you are initializing BertForSequenceClassification from the checkpoint of a model trained on another task or with another architecture (e.g. initializing a BertForSequenceClassification model from a BertForPreTraining model).\n",
      "- This IS NOT expected if you are initializing BertForSequenceClassification from the checkpoint of a model that you expect to be exactly identical (initializing a BertForSequenceClassification model from a BertForSequenceClassification model).\n",
      "Some weights of BertForSequenceClassification were not initialized from the model checkpoint at bert-base-uncased and are newly initialized: ['classifier.bias', 'classifier.weight']\n",
      "You should probably TRAIN this model on a down-stream task to be able to use it for predictions and inference.\n"
     ]
    },
    {
     "name": "stdout",
     "output_type": "stream",
     "text": [
      "======== Epoch 1 / 2 ========\n",
      "Training...\n",
      "  Batch   100  of    563.\n",
      "  Batch   200  of    563.\n",
      "  Batch   300  of    563.\n",
      "  Batch   400  of    563.\n",
      "  Batch   500  of    563.\n",
      "  Average training loss: 0.2485\n",
      "======== Epoch 2 / 2 ========\n",
      "Training...\n",
      "  Batch   100  of    563.\n",
      "  Batch   200  of    563.\n",
      "  Batch   300  of    563.\n",
      "  Batch   400  of    563.\n",
      "  Batch   500  of    563.\n",
      "  Average training loss: 0.1837\n",
      "Testing...\n",
      "  Test MRR:  0.7259\n",
      "  Test MAP:  0.3601\n",
      "  Test NDCG: 0.4939\n",
      "90\n",
      "======== Fold 3 / 5 ========\n",
      "MRR:  0.7611\n",
      "MAP:  0.3341\n",
      "NDCG: 0.4826\n",
      "135\n"
     ]
    },
    {
     "name": "stderr",
     "output_type": "stream",
     "text": [
      "Some weights of the model checkpoint at bert-base-uncased were not used when initializing BertForSequenceClassification: ['cls.seq_relationship.bias', 'cls.predictions.transform.LayerNorm.bias', 'cls.predictions.decoder.weight', 'cls.predictions.transform.LayerNorm.weight', 'cls.seq_relationship.weight', 'cls.predictions.transform.dense.weight', 'cls.predictions.bias', 'cls.predictions.transform.dense.bias']\n",
      "- This IS expected if you are initializing BertForSequenceClassification from the checkpoint of a model trained on another task or with another architecture (e.g. initializing a BertForSequenceClassification model from a BertForPreTraining model).\n",
      "- This IS NOT expected if you are initializing BertForSequenceClassification from the checkpoint of a model that you expect to be exactly identical (initializing a BertForSequenceClassification model from a BertForSequenceClassification model).\n",
      "Some weights of BertForSequenceClassification were not initialized from the model checkpoint at bert-base-uncased and are newly initialized: ['classifier.bias', 'classifier.weight']\n",
      "You should probably TRAIN this model on a down-stream task to be able to use it for predictions and inference.\n"
     ]
    },
    {
     "name": "stdout",
     "output_type": "stream",
     "text": [
      "======== Epoch 1 / 2 ========\n",
      "Training...\n",
      "  Batch   100  of    563.\n",
      "  Batch   200  of    563.\n",
      "  Batch   300  of    563.\n",
      "  Batch   400  of    563.\n",
      "  Batch   500  of    563.\n",
      "  Average training loss: 0.2418\n",
      "======== Epoch 2 / 2 ========\n",
      "Training...\n",
      "  Batch   100  of    563.\n",
      "  Batch   200  of    563.\n",
      "  Batch   300  of    563.\n",
      "  Batch   400  of    563.\n",
      "  Batch   500  of    563.\n",
      "  Average training loss: 0.1696\n",
      "Testing...\n",
      "  Test MRR:  0.8397\n",
      "  Test MAP:  0.4076\n",
      "  Test NDCG: 0.5440\n",
      "135\n",
      "======== Fold 4 / 5 ========\n",
      "MRR:  0.6859\n",
      "MAP:  0.3317\n",
      "NDCG: 0.4408\n",
      "180\n"
     ]
    },
    {
     "name": "stderr",
     "output_type": "stream",
     "text": [
      "Some weights of the model checkpoint at bert-base-uncased were not used when initializing BertForSequenceClassification: ['cls.seq_relationship.bias', 'cls.predictions.transform.LayerNorm.bias', 'cls.predictions.decoder.weight', 'cls.predictions.transform.LayerNorm.weight', 'cls.seq_relationship.weight', 'cls.predictions.transform.dense.weight', 'cls.predictions.bias', 'cls.predictions.transform.dense.bias']\n",
      "- This IS expected if you are initializing BertForSequenceClassification from the checkpoint of a model trained on another task or with another architecture (e.g. initializing a BertForSequenceClassification model from a BertForPreTraining model).\n",
      "- This IS NOT expected if you are initializing BertForSequenceClassification from the checkpoint of a model that you expect to be exactly identical (initializing a BertForSequenceClassification model from a BertForSequenceClassification model).\n",
      "Some weights of BertForSequenceClassification were not initialized from the model checkpoint at bert-base-uncased and are newly initialized: ['classifier.bias', 'classifier.weight']\n",
      "You should probably TRAIN this model on a down-stream task to be able to use it for predictions and inference.\n"
     ]
    },
    {
     "name": "stdout",
     "output_type": "stream",
     "text": [
      "======== Epoch 1 / 2 ========\n",
      "Training...\n",
      "  Batch   100  of    563.\n",
      "  Batch   200  of    563.\n",
      "  Batch   300  of    563.\n",
      "  Batch   400  of    563.\n",
      "  Batch   500  of    563.\n",
      "  Average training loss: 0.2467\n",
      "======== Epoch 2 / 2 ========\n",
      "Training...\n",
      "  Batch   100  of    563.\n",
      "  Batch   200  of    563.\n",
      "  Batch   300  of    563.\n",
      "  Batch   400  of    563.\n",
      "  Batch   500  of    563.\n",
      "  Average training loss: 0.1802\n",
      "Testing...\n",
      "  Test MRR:  0.7817\n",
      "  Test MAP:  0.3954\n",
      "  Test NDCG: 0.5030\n",
      "180\n",
      "======== Fold 5 / 5 ========\n",
      "MRR:  0.7796\n",
      "MAP:  0.3182\n",
      "NDCG: 0.4780\n",
      "225\n"
     ]
    },
    {
     "name": "stderr",
     "output_type": "stream",
     "text": [
      "Some weights of the model checkpoint at bert-base-uncased were not used when initializing BertForSequenceClassification: ['cls.seq_relationship.bias', 'cls.predictions.transform.LayerNorm.bias', 'cls.predictions.decoder.weight', 'cls.predictions.transform.LayerNorm.weight', 'cls.seq_relationship.weight', 'cls.predictions.transform.dense.weight', 'cls.predictions.bias', 'cls.predictions.transform.dense.bias']\n",
      "- This IS expected if you are initializing BertForSequenceClassification from the checkpoint of a model trained on another task or with another architecture (e.g. initializing a BertForSequenceClassification model from a BertForPreTraining model).\n",
      "- This IS NOT expected if you are initializing BertForSequenceClassification from the checkpoint of a model that you expect to be exactly identical (initializing a BertForSequenceClassification model from a BertForSequenceClassification model).\n",
      "Some weights of BertForSequenceClassification were not initialized from the model checkpoint at bert-base-uncased and are newly initialized: ['classifier.bias', 'classifier.weight']\n",
      "You should probably TRAIN this model on a down-stream task to be able to use it for predictions and inference.\n"
     ]
    },
    {
     "name": "stdout",
     "output_type": "stream",
     "text": [
      "======== Epoch 1 / 2 ========\n",
      "Training...\n",
      "  Batch   100  of    563.\n",
      "  Batch   200  of    563.\n",
      "  Batch   300  of    563.\n",
      "  Batch   400  of    563.\n",
      "  Batch   500  of    563.\n",
      "  Average training loss: 0.2323\n",
      "======== Epoch 2 / 2 ========\n",
      "Training...\n",
      "  Batch   100  of    563.\n",
      "  Batch   200  of    563.\n",
      "  Batch   300  of    563.\n",
      "  Batch   400  of    563.\n",
      "  Batch   500  of    563.\n",
      "  Average training loss: 0.1665\n",
      "Testing...\n",
      "  Test MRR:  0.8513\n",
      "  Test MAP:  0.4392\n",
      "  Test NDCG: 0.5945\n",
      "225\n",
      "  BM25 MRR:  0.7340\n",
      "  BM25 MAP:  0.3274\n",
      "  BM25 NDCG: 0.4714\n",
      "  BERT MRR:  0.8033\n",
      "  BERT MAP:  0.4016\n",
      "  BERT NDCG: 0.5353\n",
      "p-value MRR: 0.0433\n",
      "p-value MAP: 0.0021\n",
      "p-value NDCG: 0.0095\n",
      "Time:  72.71740344229998  min\n"
     ]
    }
   ],
   "source": [
    "if __name__ == \"__main__\":\n",
    "    print(\"# ========================================\")\n",
    "    print(\"#               Hyper-Parameters\")\n",
    "    print(MODE)\n",
    "    print(MODEL_TYPE)\n",
    "    print(LEARNING_RATE)\n",
    "    print(MAX_LENGTH)\n",
    "    print(BATCH_SIZE)\n",
    "    print(EPOCHS)\n",
    "    print(\"# ========================================\")\n",
    "    print(\"#               Experiment-Settings\")\n",
    "    print('BM25_ENRICHMENT: ', BM25_ENRICH)\n",
    "\n",
    "    print(\"# ========================================\")\n",
    "    print(\"#               Other\")\n",
    "    print(torch.cuda.get_device_name())\n",
    "    print(\"# ========================================\")\n",
    "    \n",
    "    start = timeit.default_timer()\n",
    "    \n",
    "    device = utils.get_gpu_device()\n",
    "    if not os.path.exists('../Output_Folder'):\n",
    "        os.makedirs('../Output_Folder')\n",
    "\n",
    "    queries = data_utils.get_queries('../Data/cran/cran.qry')\n",
    "    corpus = data_utils.get_corpus('../Data/cran/cran.all.1400')\n",
    "    rel_fed = data_utils.get_judgments('../Data/cran/cranqrel')\n",
    "\n",
    "    labels = utils.get_binary_labels(rel_fed)\n",
    "    tokenized_corpus = [doc.split(\" \") for doc in corpus]\n",
    "    tokenized_queries = [query.split(\" \") for query in queries]\n",
    "\n",
    "    bm25, bm25_top_n = utils.get_bm25_top_results(tokenized_corpus, tokenized_queries, TOP_BM25)\n",
    "\n",
    "    # no matter what BM25_ENRICH is, this line is needed to get `temp_feedback` for the test set\n",
    "    padded_all, attention_mask_all, token_type_ids_all, temp_feedback = utils.bert_tokenizer(MODE, bm25_top_n, corpus,\n",
    "                                                                                             labels, queries,\n",
    "                                                                                             MAX_LENGTH, MODEL_TYPE)\n",
    "    if BM25_ENRICH == 'swap':\n",
    "        bm25_top_n_ext, bm25_top_n_swap = get_bm25_plus_other_rel(bm25_top_n, labels, queries)\n",
    "        padded_all_swap, attention_mask_all_swap, token_type_ids_all_swap, temp_feedback_swap = utils.bert_tokenizer(MODE, bm25_top_n_swap, corpus,\n",
    "                                                                                                                     labels, queries,\n",
    "                                                                                                                     MAX_LENGTH, MODEL_TYPE)\n",
    "\n",
    "    # ========================================\n",
    "    #               Folds\n",
    "    # ========================================\n",
    "    mrr_bm25_list, map_bm25_list, ndcg_bm25_list = [], [], []\n",
    "    mrr_bert_list, map_bert_list, ndcg_bert_list = [], [], []\n",
    "    mrr_bm25, map_bm25, ndcg_bm25 = 0, 0, 0\n",
    "    mrr_bert, map_bert, ndcg_bert = 0, 0, 0\n",
    "\n",
    "    for fold_number in range(1, 6):\n",
    "        print('======== Fold {:} / {:} ========'.format(fold_number, 5))\n",
    "        train_index, test_index = data_utils.load_fold(fold_number)\n",
    "\n",
    "        padded, attention_mask, token_type_ids = [], [], []\n",
    "        if MODE == 'Re-ranker':\n",
    "            # no matter BM25_ENRICH-mode, next line required for test set construction\n",
    "            padded, attention_mask, token_type_ids = padded_all, attention_mask_all, token_type_ids_all\n",
    "            if BM25_ENRICH == 'swap':\n",
    "                padded_swap, attention_mask_swap, token_type_ids_swap = padded_all_swap, attention_mask_all_swap, token_type_ids_all_swap\n",
    "            \n",
    "        else:\n",
    "            temp_feedback = []\n",
    "            for query_num in range(0, len(bm25_top_n)):\n",
    "                if query_num in test_index:\n",
    "                    doc_nums = range(0, 1400)\n",
    "                else:\n",
    "                    doc_nums = bm25_top_n[query_num]\n",
    "                padded.append(list(itemgetter(*doc_nums)(padded_all[query_num])))\n",
    "                attention_mask.append(list(itemgetter(*doc_nums)(attention_mask_all[query_num])))\n",
    "                token_type_ids.append(list(itemgetter(*doc_nums)(token_type_ids_all[query_num])))\n",
    "                temp_feedback.append(list(itemgetter(*doc_nums)(labels[query_num])))\n",
    "\n",
    "        # Enricht the training set (or keep default)\n",
    "        if BM25_ENRICH == 'default':\n",
    "            train_dataset = data_utils.get_tensor_dataset(train_index, padded, attention_mask, token_type_ids,\n",
    "                                                          temp_feedback)\n",
    "        elif BM25_ENRICH == 'swap':\n",
    "            train_dataset = data_utils.get_tensor_dataset(train_index, padded_swap, attention_mask_swap, token_type_ids_swap,\n",
    "                                                    temp_feedback_swap)\n",
    "        test_dataset = data_utils.get_tensor_dataset(test_index, padded, attention_mask, token_type_ids, temp_feedback)\n",
    "\n",
    "        mrr_bm25, map_bm25, ndcg_bm25, mrr_bm25_list, map_bm25_list, ndcg_bm25_list = utils.get_bm25_results(\n",
    "            mrr_bm25_list, map_bm25_list, ndcg_bm25_list, test_index, tokenized_queries, bm25, mrr_bm25, map_bm25,\n",
    "            ndcg_bm25, rel_fed, fold_number, MAP_CUT, NDCG_CUT)\n",
    "\n",
    "        train_dataloader, test_dataloader, model, optimizer, scheduler = utils.model_preparation(MODEL_TYPE, train_dataset,\n",
    "                                                                                                 test_dataset,\n",
    "                                                                                                 BATCH_SIZE, TEST_BATCH_SIZE,\n",
    "                                                                                                 LEARNING_RATE, EPOCHS)\n",
    "        # ========================================\n",
    "        #               Training Loop\n",
    "        # ========================================\n",
    "        epochs_train_loss, epochs_val_loss = [], []\n",
    "        for epoch_i in range(0, EPOCHS):\n",
    "            # ========================================\n",
    "            #               Training\n",
    "            # ========================================\n",
    "            print('======== Epoch {:} / {:} ========'.format(epoch_i + 1, EPOCHS))\n",
    "            print('Training...')\n",
    "            model, optimizer, scheduler = utils.training(model, train_dataloader, device, optimizer, scheduler)\n",
    "        # ========================================\n",
    "        #               Testing\n",
    "        # ========================================\n",
    "        print('Testing...')\n",
    "        mrr_bert, map_bert, ndcg_bert, mrr_bert_list, map_bert_list, ndcg_bert_list = utils.testing(MODE, model,\n",
    "                                                                                                    test_dataloader,\n",
    "                                                                                                    device, test_index,\n",
    "                                                                                                    bm25_top_n,\n",
    "                                                                                                    mrr_bert_list,\n",
    "                                                                                                    map_bert_list,\n",
    "                                                                                                    ndcg_bert_list,\n",
    "                                                                                                    mrr_bert, map_bert,\n",
    "                                                                                                    ndcg_bert, rel_fed,\n",
    "                                                                                                    fold_number,\n",
    "                                                                                                    MAP_CUT, NDCG_CUT)\n",
    "    print(\"  BM25 MRR:  \" + \"{:.4f}\".format(mrr_bm25 / 5))\n",
    "    print(\"  BM25 MAP:  \" + \"{:.4f}\".format(map_bm25 / 5))\n",
    "    print(\"  BM25 NDCG: \" + \"{:.4f}\".format(ndcg_bm25 / 5))\n",
    "\n",
    "    print(\"  BERT MRR:  \" + \"{:.4f}\".format(mrr_bert / 5))\n",
    "    print(\"  BERT MAP:  \" + \"{:.4f}\".format(map_bert / 5))\n",
    "    print(\"  BERT NDCG: \" + \"{:.4f}\".format(ndcg_bert / 5))\n",
    "\n",
    "    utils.t_test(mrr_bm25_list, mrr_bert_list, 'MRR')\n",
    "    utils.t_test(map_bm25_list, map_bert_list, 'MAP')\n",
    "    utils.t_test(ndcg_bm25_list, ndcg_bert_list, 'NDCG')\n",
    "    \n",
    "    stop = timeit.default_timer()\n",
    "    wall_time = (stop - start) / 60 \n",
    "\n",
    "    print('Time: ', wall_time, ' min') \n",
    "\n",
    "    # utils.results_to_csv('./mrr_bm25_list.csv', mrr_bm25_list)\n",
    "    # utils.results_to_csv('./mrr_bert_list.csv', mrr_bert_list)\n",
    "    # utils.results_to_csv('./map_bm25_list.csv', map_bm25_list)\n",
    "    # utils.results_to_csv('./map_bert_list.csv', map_bert_list)\n",
    "    # utils.results_to_csv('./ndcg_bm25_list.csv', ndcg_bm25_list)\n",
    "    # utils.results_to_csv('./ndcg_bert_list.csv', ndcg_bert_list)"
   ]
  },
  {
   "cell_type": "code",
   "execution_count": null,
   "metadata": {},
   "outputs": [],
   "source": []
  }
 ],
 "metadata": {
  "accelerator": "GPU",
  "colab": {
   "authorship_tag": "ABX9TyOBd97UbrTVgPrjVL2DoatH",
   "mount_file_id": "1o-bqM1Hdhbu5zlPK75qMhTeJTDX1iE0G",
   "name": "enrich-trainingsets.ipynb",
   "version": ""
  },
  "environment": {
   "name": "common-cu110.m79",
   "type": "gcloud",
   "uri": "gcr.io/deeplearning-platform-release/base-cu110:m79"
  },
  "kernelspec": {
   "display_name": "Python 3",
   "language": "python",
   "name": "python3"
  },
  "language_info": {
   "codemirror_mode": {
    "name": "ipython",
    "version": 3
   },
   "file_extension": ".py",
   "mimetype": "text/x-python",
   "name": "python",
   "nbconvert_exporter": "python",
   "pygments_lexer": "ipython3",
   "version": "3.7.10"
  }
 },
 "nbformat": 4,
 "nbformat_minor": 4
}
