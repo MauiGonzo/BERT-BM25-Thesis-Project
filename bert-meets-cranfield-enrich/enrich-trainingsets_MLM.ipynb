{
 "cells": [
  {
   "cell_type": "markdown",
   "metadata": {
    "id": "-t_ZMd4LeXgL"
   },
   "source": [
    "# BERT Meets Cranfield - Enrichment and Transfer Learning Approach\n",
    "The BM25 step finds a significant portion of the relevant documents for each query, but not all. The following notebooks implements a function that enriches the training set to find wether it would be benficial include those missed documents."
   ]
  },
  {
   "cell_type": "code",
   "execution_count": 1,
   "metadata": {
    "colab": {
     "base_uri": "https://localhost:8080/"
    },
    "executionInfo": {
     "elapsed": 164,
     "status": "ok",
     "timestamp": 1632132483274,
     "user": {
      "displayName": "Maurice Verbrugge",
      "photoUrl": "https://lh3.googleusercontent.com/a-/AOh14GgqmdBO0giQPluidHjemi6aWvts_C_AZ5rqt1Y4yA=s64",
      "userId": "18106956806494538064"
     },
     "user_tz": -120
    },
    "id": "Fss4AAPjsdc2",
    "outputId": "a1096330-85f5-4322-a8f8-c6b586b47816"
   },
   "outputs": [
    {
     "name": "stdout",
     "output_type": "stream",
     "text": [
      "/home/jupyter/BERT-BM25-Thesis-Project/bert-meets-cranfield-enrich/Code\n"
     ]
    }
   ],
   "source": [
    "# %cd /content/drive/MyDrive/COMPUTING SCIENCE/THESIS_PROJECT/BERT-BM25-Thesis-Project/bert-meets-cranfield-enrich/Code\n",
    "%cd /home/jupyter/BERT-BM25-Thesis-Project/bert-meets-cranfield-enrich/Code"
   ]
  },
  {
   "cell_type": "code",
   "execution_count": 2,
   "metadata": {
    "colab": {
     "base_uri": "https://localhost:8080/"
    },
    "executionInfo": {
     "elapsed": 22,
     "status": "ok",
     "timestamp": 1632132095672,
     "user": {
      "displayName": "Maurice Verbrugge",
      "photoUrl": "https://lh3.googleusercontent.com/a-/AOh14GgqmdBO0giQPluidHjemi6aWvts_C_AZ5rqt1Y4yA=s64",
      "userId": "18106956806494538064"
     },
     "user_tz": -120
    },
    "id": "M4xg0ZyG2bqH",
    "outputId": "576ce271-e6d1-4598-f7d3-62b9082b73b6"
   },
   "outputs": [],
   "source": [
    "# from google.colab import drive\n",
    "# drive.mount('/content/drive')"
   ]
  },
  {
   "cell_type": "code",
   "execution_count": 3,
   "metadata": {
    "colab": {
     "base_uri": "https://localhost:8080/"
    },
    "executionInfo": {
     "elapsed": 3597,
     "status": "ok",
     "timestamp": 1632132099255,
     "user": {
      "displayName": "Maurice Verbrugge",
      "photoUrl": "https://lh3.googleusercontent.com/a-/AOh14GgqmdBO0giQPluidHjemi6aWvts_C_AZ5rqt1Y4yA=s64",
      "userId": "18106956806494538064"
     },
     "user_tz": -120
    },
    "id": "vRlcr2u0fL5q",
    "outputId": "43b0865e-421a-4393-e89f-b11ccef06249"
   },
   "outputs": [
    {
     "name": "stdout",
     "output_type": "stream",
     "text": [
      "Requirement already satisfied: numpy>=1.19.1 in /opt/conda/lib/python3.7/site-packages (from -r ../requirements.txt (line 1)) (1.19.5)\n",
      "Requirement already satisfied: scipy>=1.5.2 in /opt/conda/lib/python3.7/site-packages (from -r ../requirements.txt (line 2)) (1.7.1)\n",
      "Requirement already satisfied: rank_bm25>=0.2.1 in /opt/conda/lib/python3.7/site-packages (from -r ../requirements.txt (line 3)) (0.2.1)\n",
      "Requirement already satisfied: transformers>=3.1.0 in /opt/conda/lib/python3.7/site-packages (from -r ../requirements.txt (line 4)) (4.10.2)\n",
      "Requirement already satisfied: torch>=1.6.0 in /opt/conda/lib/python3.7/site-packages (from -r ../requirements.txt (line 5)) (1.9.0)\n",
      "Requirement already satisfied: sacremoses in /opt/conda/lib/python3.7/site-packages (from transformers>=3.1.0->-r ../requirements.txt (line 4)) (0.0.45)\n",
      "Requirement already satisfied: filelock in /opt/conda/lib/python3.7/site-packages (from transformers>=3.1.0->-r ../requirements.txt (line 4)) (3.0.12)\n",
      "Requirement already satisfied: requests in /opt/conda/lib/python3.7/site-packages (from transformers>=3.1.0->-r ../requirements.txt (line 4)) (2.25.1)\n",
      "Requirement already satisfied: tokenizers<0.11,>=0.10.1 in /opt/conda/lib/python3.7/site-packages (from transformers>=3.1.0->-r ../requirements.txt (line 4)) (0.10.3)\n",
      "Requirement already satisfied: packaging in /opt/conda/lib/python3.7/site-packages (from transformers>=3.1.0->-r ../requirements.txt (line 4)) (21.0)\n",
      "Requirement already satisfied: huggingface-hub>=0.0.12 in /opt/conda/lib/python3.7/site-packages (from transformers>=3.1.0->-r ../requirements.txt (line 4)) (0.0.17)\n",
      "Requirement already satisfied: pyyaml>=5.1 in /opt/conda/lib/python3.7/site-packages (from transformers>=3.1.0->-r ../requirements.txt (line 4)) (5.4.1)\n",
      "Requirement already satisfied: regex!=2019.12.17 in /opt/conda/lib/python3.7/site-packages (from transformers>=3.1.0->-r ../requirements.txt (line 4)) (2021.8.28)\n",
      "Requirement already satisfied: tqdm>=4.27 in /opt/conda/lib/python3.7/site-packages (from transformers>=3.1.0->-r ../requirements.txt (line 4)) (4.62.2)\n",
      "Requirement already satisfied: importlib-metadata in /opt/conda/lib/python3.7/site-packages (from transformers>=3.1.0->-r ../requirements.txt (line 4)) (4.8.1)\n",
      "Requirement already satisfied: typing-extensions in /opt/conda/lib/python3.7/site-packages (from torch>=1.6.0->-r ../requirements.txt (line 5)) (3.10.0.0)\n",
      "Requirement already satisfied: pyparsing>=2.0.2 in /opt/conda/lib/python3.7/site-packages (from packaging->transformers>=3.1.0->-r ../requirements.txt (line 4)) (2.4.7)\n",
      "Requirement already satisfied: zipp>=0.5 in /opt/conda/lib/python3.7/site-packages (from importlib-metadata->transformers>=3.1.0->-r ../requirements.txt (line 4)) (3.5.0)\n",
      "Requirement already satisfied: chardet<5,>=3.0.2 in /opt/conda/lib/python3.7/site-packages (from requests->transformers>=3.1.0->-r ../requirements.txt (line 4)) (4.0.0)\n",
      "Requirement already satisfied: certifi>=2017.4.17 in /opt/conda/lib/python3.7/site-packages (from requests->transformers>=3.1.0->-r ../requirements.txt (line 4)) (2021.5.30)\n",
      "Requirement already satisfied: urllib3<1.27,>=1.21.1 in /opt/conda/lib/python3.7/site-packages (from requests->transformers>=3.1.0->-r ../requirements.txt (line 4)) (1.26.6)\n",
      "Requirement already satisfied: idna<3,>=2.5 in /opt/conda/lib/python3.7/site-packages (from requests->transformers>=3.1.0->-r ../requirements.txt (line 4)) (2.10)\n",
      "Requirement already satisfied: click in /opt/conda/lib/python3.7/site-packages (from sacremoses->transformers>=3.1.0->-r ../requirements.txt (line 4)) (8.0.1)\n",
      "Requirement already satisfied: six in /opt/conda/lib/python3.7/site-packages (from sacremoses->transformers>=3.1.0->-r ../requirements.txt (line 4)) (1.16.0)\n",
      "Requirement already satisfied: joblib in /opt/conda/lib/python3.7/site-packages (from sacremoses->transformers>=3.1.0->-r ../requirements.txt (line 4)) (1.0.1)\n"
     ]
    }
   ],
   "source": [
    "!pip3 install -r ../requirements.txt"
   ]
  },
  {
   "cell_type": "markdown",
   "metadata": {
    "id": "gVLKhUhufNbM"
   },
   "source": [
    "## Import"
   ]
  },
  {
   "cell_type": "code",
   "execution_count": 4,
   "metadata": {
    "executionInfo": {
     "elapsed": 159,
     "status": "ok",
     "timestamp": 1632132399661,
     "user": {
      "displayName": "Maurice Verbrugge",
      "photoUrl": "https://lh3.googleusercontent.com/a-/AOh14GgqmdBO0giQPluidHjemi6aWvts_C_AZ5rqt1Y4yA=s64",
      "userId": "18106956806494538064"
     },
     "user_tz": -120
    },
    "id": "mOM6kY43fQ7U"
   },
   "outputs": [],
   "source": [
    "import utils\n",
    "import data_utils\n",
    "from operator import itemgetter\n",
    "import os\n",
    "import numpy as np\n",
    "\n",
    "import torch\n",
    "import importlib\n",
    "# from transformers import BertForSequenceClassification, BertTokenizer, BertForMaskedLM, BertForNextSentencePrediction\n",
    "from transformers import BertForSequenceClassification\n",
    "\n",
    "import timeit"
   ]
  },
  {
   "cell_type": "markdown",
   "metadata": {
    "id": "DRuHYyUifVsk"
   },
   "source": [
    "### Import Refresh\n",
    "When a supporting py-file (such as utils.py) is changed, this code will have the lib reloaded while not reloading the entire notebook."
   ]
  },
  {
   "cell_type": "code",
   "execution_count": 5,
   "metadata": {
    "colab": {
     "base_uri": "https://localhost:8080/"
    },
    "executionInfo": {
     "elapsed": 767,
     "status": "ok",
     "timestamp": 1632132495623,
     "user": {
      "displayName": "Maurice Verbrugge",
      "photoUrl": "https://lh3.googleusercontent.com/a-/AOh14GgqmdBO0giQPluidHjemi6aWvts_C_AZ5rqt1Y4yA=s64",
      "userId": "18106956806494538064"
     },
     "user_tz": -120
    },
    "id": "wDay4M8afTKL",
    "outputId": "70416e65-f914-4f89-d94c-ed8d9268f2f6"
   },
   "outputs": [
    {
     "data": {
      "text/plain": [
       "<module 'data_utils' from '/home/jupyter/BERT-BM25-Thesis-Project/bert-meets-cranfield-enrich/Code/data_utils.py'>"
      ]
     },
     "execution_count": 5,
     "metadata": {},
     "output_type": "execute_result"
    }
   ],
   "source": [
    "# call after making any changes in utils.py\n",
    "importlib.reload(utils) \n",
    "importlib.reload(data_utils)"
   ]
  },
  {
   "cell_type": "markdown",
   "metadata": {
    "id": "mznu8BEmf2ds"
   },
   "source": [
    "## Set hyper-paramters and test settings"
   ]
  },
  {
   "cell_type": "code",
   "execution_count": 5,
   "metadata": {
    "executionInfo": {
     "elapsed": 27,
     "status": "ok",
     "timestamp": 1632132102486,
     "user": {
      "displayName": "Maurice Verbrugge",
      "photoUrl": "https://lh3.googleusercontent.com/a-/AOh14GgqmdBO0giQPluidHjemi6aWvts_C_AZ5rqt1Y4yA=s64",
      "userId": "18106956806494538064"
     },
     "user_tz": -120
    },
    "id": "ai5fO45Wf1qT"
   },
   "outputs": [],
   "source": [
    "# ========================================\n",
    "#               Hyper-Parameters\n",
    "# ========================================\n",
    "SEED = 76\n",
    "MODE = 'Re-ranker'\n",
    "MODEL_TYPE = 'bert-base-uncased'\n",
    "LEARNING_RATE = 2e-5\n",
    "MAX_LENGTH = 128\n",
    "BATCH_SIZE = 32\n",
    "EPOCHS = 1\n",
    "TOP_BM25 = 100\n",
    "MAP_CUT = 100\n",
    "NDCG_CUT = 20\n",
    "if MODE == 'Full-ranker':\n",
    "    TEST_BATCH_SIZE = 1400\n",
    "else:\n",
    "    TEST_BATCH_SIZE = 100\n",
    "\n",
    "# Set the seed value all over the place to make this reproducible.\n",
    "utils.initialize_random_generators(SEED)\n",
    "\n",
    "BM25_ENRICH = 'default' # or 'add' or 'swap' (default=no enrichment of BM25 results)\n",
    "\n",
    "LOAD_CUSTOM_TRAINED_MODEL = True\n",
    "DO_FREEZING = False"
   ]
  },
  {
   "cell_type": "code",
   "execution_count": 6,
   "metadata": {
    "executionInfo": {
     "elapsed": 27,
     "status": "ok",
     "timestamp": 1632132102487,
     "user": {
      "displayName": "Maurice Verbrugge",
      "photoUrl": "https://lh3.googleusercontent.com/a-/AOh14GgqmdBO0giQPluidHjemi6aWvts_C_AZ5rqt1Y4yA=s64",
      "userId": "18106956806494538064"
     },
     "user_tz": -120
    },
    "id": "Ll05QrP3Qac7"
   },
   "outputs": [],
   "source": [
    "models_dir = \"/home/jupyter/BERT-BM25-Thesis-Project/Models/\" #@param {type:\"string\"}\n",
    "custom_model_name = \"BERT_Cranfield_MLM_model-128-16-5e-05-2.bin\" #@param {type:\"string\"}\n",
    "\n",
    "custom_model_path = models_dir + custom_model_name "
   ]
  },
  {
   "cell_type": "markdown",
   "metadata": {
    "id": "kpy2-0MM0T26"
   },
   "source": [
    "### Enriching function for BM25 results"
   ]
  },
  {
   "cell_type": "code",
   "execution_count": 7,
   "metadata": {
    "executionInfo": {
     "elapsed": 27,
     "status": "ok",
     "timestamp": 1632132102487,
     "user": {
      "displayName": "Maurice Verbrugge",
      "photoUrl": "https://lh3.googleusercontent.com/a-/AOh14GgqmdBO0giQPluidHjemi6aWvts_C_AZ5rqt1Y4yA=s64",
      "userId": "18106956806494538064"
     },
     "user_tz": -120
    },
    "id": "zstVSGg60T26"
   },
   "outputs": [],
   "source": [
    "def get_bm25_plus_other_rel(bm25_tn, labels, queries):\n",
    "      bm25_top_n_rel_padded = [0]*len(queries) # a bm25_top_n list padded with the remaining relevant documents\n",
    "      bm25_top_n_swap = [0]*len(queries) \n",
    "    \n",
    "      for qi in range(len(queries)):\n",
    "        # get the list of relelvant documents\n",
    "        lbi = np.where(labels[qi] == 1)\n",
    "        # note this numbering is only compatible with the labels list\n",
    "\n",
    "\n",
    "        # get the list of bm25_top_n\n",
    "        np_bm25_qi_docs = np.array(bm25_top_n[qi]) \n",
    "\n",
    "        # evaluate what relevant documents should be added\n",
    "        pad_rel = np.setdiff1d(lbi, np_bm25_qi_docs)\n",
    "        # if len(pad_rel) > 0:\n",
    "        pad_rel = tuple(pad_rel)\n",
    "        bm25_top_n_rel_padded[qi] = bm25_top_n[qi] + pad_rel\n",
    "        # create a list with least relevant items swapped for unfound relevant\n",
    "        for i in range(len(pad_rel)):\n",
    "          # CHECK\n",
    "          # are we to swap a relevant document?\n",
    "          current_doc = np_bm25_qi_docs[-(i+1)] \n",
    "          \n",
    "          if np.count_nonzero(current_doc == lbi) > 0:\n",
    "            print('Relevant doc overwritten!')\n",
    "          # CONTINUE  \n",
    "          np_bm25_qi_docs[-(i+1)] = pad_rel[i]\n",
    "          \n",
    "        bm25_top_n_swap[qi] = np_bm25_qi_docs\n",
    "      return bm25_top_n_rel_padded, bm25_top_n_swap"
   ]
  },
  {
   "cell_type": "markdown",
   "metadata": {
    "id": "2HLOroQocl_9"
   },
   "source": [
    "### Function for loading custom model\n",
    "Load in fact an encoder, that is trained with a specific specification"
   ]
  },
  {
   "cell_type": "code",
   "execution_count": 8,
   "metadata": {
    "executionInfo": {
     "elapsed": 26,
     "status": "ok",
     "timestamp": 1632132102487,
     "user": {
      "displayName": "Maurice Verbrugge",
      "photoUrl": "https://lh3.googleusercontent.com/a-/AOh14GgqmdBO0giQPluidHjemi6aWvts_C_AZ5rqt1Y4yA=s64",
      "userId": "18106956806494538064"
     },
     "user_tz": -120
    },
    "id": "8ULE9E5zdFen"
   },
   "outputs": [],
   "source": [
    "def load_specific_encoder(model_path):\n",
    "  '''\n",
    "    function to load saved encoder paramters\n",
    "\n",
    "    use this function to start every fold with a fresh model\n",
    "  '''\n",
    "  model = BertForSequenceClassification.from_pretrained(\n",
    "        MODEL_TYPE,\n",
    "        num_labels=2,\n",
    "        output_attentions=False,\n",
    "        output_hidden_states=False,\n",
    "    )\n",
    "  model.cuda\n",
    "  print('LOAD : ', model_path )\n",
    "\n",
    "  # =======================\n",
    "  # NOTE WHAT MODEL IS USED\n",
    "  model.load_state_dict(torch.load(model_path), strict=False)\n",
    "  # now you get a warning that extra training is required\n",
    "\n",
    "  if DO_FREEZING:\n",
    "    print('FREEZING: set requires_grad to False')\n",
    "    # freeze the encoder parameters (credits thomwolf of Huggingface)\n",
    "    # for param in model.bert.encoder.parameters():\n",
    "    #   param.requires_grad = False\n",
    "\n",
    "    # other method\n",
    "    model.bert.encoder.requires_grad_(False)\n",
    "  return model"
   ]
  },
  {
   "cell_type": "markdown",
   "metadata": {
    "id": "7og1VnHhgcsL"
   },
   "source": [
    "## Train and Test"
   ]
  },
  {
   "cell_type": "code",
   "execution_count": 9,
   "metadata": {
    "colab": {
     "base_uri": "https://localhost:8080/",
     "height": 949
    },
    "executionInfo": {
     "elapsed": 162427,
     "status": "error",
     "timestamp": 1632132678325,
     "user": {
      "displayName": "Maurice Verbrugge",
      "photoUrl": "https://lh3.googleusercontent.com/a-/AOh14GgqmdBO0giQPluidHjemi6aWvts_C_AZ5rqt1Y4yA=s64",
      "userId": "18106956806494538064"
     },
     "user_tz": -120
    },
    "id": "3jAyQHGhgbFH",
    "outputId": "9a1883fe-6b82-445a-b358-5ea9fca0b1a5"
   },
   "outputs": [],
   "source": [
    "# if __name__ == \"__main__\":\n",
    "def train_test():\n",
    "    print(\"# ========================================\")\n",
    "    print(\"#               Hyper-Parameters\")\n",
    "    print(MODE)\n",
    "    print(MODEL_TYPE)\n",
    "    print(LEARNING_RATE)\n",
    "    print(MAX_LENGTH)\n",
    "    print(BATCH_SIZE)\n",
    "    print(EPOCHS)\n",
    "    print(\"# ========================================\")\n",
    "    print(\"#               Experiment-Settings\")\n",
    "    print('BM25_ENRICHMENT: ', BM25_ENRICH)\n",
    "    print('BM25_ENRICHMENT: ', BM25_ENRICH)\n",
    "\n",
    "\n",
    "    print(\"# ========================================\")\n",
    "    print(\"#               Other\")\n",
    "    print(torch.cuda.get_device_name())\n",
    "    print(\"# ========================================\")\n",
    "    \n",
    "    start = timeit.default_timer()\n",
    "    \n",
    "    device = utils.get_gpu_device()\n",
    "    if not os.path.exists('../Output_Folder'):\n",
    "        os.makedirs('../Output_Folder')\n",
    "\n",
    "    queries = data_utils.get_queries('../Data/cran/cran.qry')\n",
    "    corpus = data_utils.get_corpus('../Data/cran/cran.all.1400')\n",
    "    rel_fed = data_utils.get_judgments('../Data/cran/cranqrel')\n",
    "\n",
    "    labels = utils.get_binary_labels(rel_fed)\n",
    "    tokenized_corpus = [doc.split(\" \") for doc in corpus]\n",
    "    tokenized_queries = [query.split(\" \") for query in queries]\n",
    "\n",
    "    bm25, bm25_top_n = utils.get_bm25_top_results(tokenized_corpus, tokenized_queries, TOP_BM25)\n",
    "\n",
    "    # no matter what BM25_ENRICH is, this line is needed to get `temp_feedback` for the test set\n",
    "    padded_all, attention_mask_all, token_type_ids_all, temp_feedback = utils.bert_tokenizer(MODE, bm25_top_n, corpus,\n",
    "                                                                                             labels, queries,\n",
    "                                                                                             MAX_LENGTH, MODEL_TYPE)\n",
    "    if BM25_ENRICH == 'swap':\n",
    "        bm25_top_n_ext, bm25_top_n_swap = get_bm25_plus_other_rel(bm25_top_n, labels, queries)\n",
    "        padded_all_swap, attention_mask_all_swap, token_type_ids_all_swap, temp_feedback_swap = utils.bert_tokenizer(MODE, bm25_top_n_swap, corpus,\n",
    "                                                                                                                     labels, queries,\n",
    "                                                                                                                     MAX_LENGTH, MODEL_TYPE)\n",
    "    elif BM25_ENRICH == 'add':\n",
    "        bm25_top_n_add, bm25_top_n_swap = get_bm25_plus_other_rel(bm25_top_n, labels, queries)\n",
    "        padded_all_add, attention_mask_all_add, token_type_ids_all_add, temp_feedback_add = utils.bert_tokenizer(MODE, bm25_top_n_add, corpus,\n",
    "                                                                                                                 labels, queries,\n",
    "                                                                                                                 MAX_LENGTH, MODEL_TYPE)\n",
    "\n",
    "    # ========================================\n",
    "    #               Folds\n",
    "    # ========================================\n",
    "    mrr_bm25_list, map_bm25_list, ndcg_bm25_list = [], [], []\n",
    "    mrr_bert_list, map_bert_list, ndcg_bert_list = [], [], []\n",
    "    mrr_bm25, map_bm25, ndcg_bm25 = 0, 0, 0\n",
    "    mrr_bert, map_bert, ndcg_bert = 0, 0, 0\n",
    "\n",
    "    for fold_number in range(1, 6):\n",
    "        print('======== Fold {:} / {:} ========'.format(fold_number, 5))\n",
    "        train_index, test_index = data_utils.load_fold(fold_number)\n",
    "\n",
    "        padded, attention_mask, token_type_ids = [], [], []\n",
    "        if MODE == 'Re-ranker':\n",
    "            # no matter BM25_ENRICH-mode, next line required for test set construction\n",
    "            padded, attention_mask, token_type_ids = padded_all, attention_mask_all, token_type_ids_all\n",
    "            if BM25_ENRICH == 'swap':\n",
    "                padded_swap, attention_mask_swap, token_type_ids_swap = padded_all_swap, attention_mask_all_swap, token_type_ids_all_swap\n",
    "            elif BM25_ENRICH == 'add':\n",
    "                padded_add, attention_mask_add, token_type_ids_add = padded_all_add, attention_mask_all_add, token_type_ids_all_add\n",
    "            \n",
    "        else:\n",
    "            temp_feedback = []\n",
    "            for query_num in range(0, len(bm25_top_n)):\n",
    "                if query_num in test_index:\n",
    "                    doc_nums = range(0, 1400)\n",
    "                else:\n",
    "                    doc_nums = bm25_top_n[query_num]\n",
    "                padded.append(list(itemgetter(*doc_nums)(padded_all[query_num])))\n",
    "                attention_mask.append(list(itemgetter(*doc_nums)(attention_mask_all[query_num])))\n",
    "                token_type_ids.append(list(itemgetter(*doc_nums)(token_type_ids_all[query_num])))\n",
    "                temp_feedback.append(list(itemgetter(*doc_nums)(labels[query_num])))\n",
    "\n",
    "        # Enricht the training set (or keep default)\n",
    "        if BM25_ENRICH == 'default':\n",
    "            train_dataset = data_utils.get_tensor_dataset(train_index, padded, attention_mask, token_type_ids,\n",
    "                                                          temp_feedback)\n",
    "        elif BM25_ENRICH == 'swap':\n",
    "            train_dataset = data_utils.get_tensor_dataset(train_index, padded_swap, attention_mask_swap, token_type_ids_swap,\n",
    "                                                    temp_feedback_swap)\n",
    "        elif BM25_ENRICH == 'add':\n",
    "            train_dataset = data_utils.get_tensor_dataset(train_index, padded_add, attention_mask_add, token_type_ids_add,\n",
    "                                                    temp_feedback_add)\n",
    "\n",
    "        test_dataset = data_utils.get_tensor_dataset(test_index, padded, attention_mask, token_type_ids, temp_feedback)\n",
    "\n",
    "        mrr_bm25, map_bm25, ndcg_bm25, mrr_bm25_list, map_bm25_list, ndcg_bm25_list = utils.get_bm25_results(\n",
    "            mrr_bm25_list, map_bm25_list, ndcg_bm25_list, test_index, tokenized_queries, bm25, mrr_bm25, map_bm25,\n",
    "            ndcg_bm25, rel_fed, fold_number, MAP_CUT, NDCG_CUT)\n",
    "\n",
    "          \n",
    "        # Option to load a custom trained model (used in transfer learning)\n",
    "        if LOAD_CUSTOM_TRAINED_MODEL:\n",
    "          model = load_specific_encoder(custom_model_path)\n",
    "        else:\n",
    "          model = None\n",
    "          # with None the model_preparation loads the 'default' model\n",
    "        train_dataloader, test_dataloader, model, optimizer, scheduler = utils.model_preparation(MODEL_TYPE, train_dataset,\n",
    "                                                                                                 test_dataset,\n",
    "                                                                                                 BATCH_SIZE, TEST_BATCH_SIZE,\n",
    "                                                                                                 LEARNING_RATE, EPOCHS, model=model)\n",
    "\n",
    "\n",
    "        # ========================================\n",
    "        #               Training Loop\n",
    "        # ========================================\n",
    "        epochs_train_loss, epochs_val_loss = [], []\n",
    "        for epoch_i in range(0, EPOCHS):\n",
    "            # ========================================\n",
    "            #               Training\n",
    "            # ========================================\n",
    "            print('======== Epoch {:} / {:} ========'.format(epoch_i + 1, EPOCHS))\n",
    "            print('Training...')\n",
    "            model, optimizer, scheduler = utils.training(model, train_dataloader, device, optimizer, scheduler)\n",
    "        # ========================================\n",
    "        #               Testing\n",
    "        # ========================================\n",
    "        print('Testing...')\n",
    "        mrr_bert, map_bert, ndcg_bert, mrr_bert_list, map_bert_list, ndcg_bert_list = utils.testing(MODE, model,\n",
    "                                                                                                    test_dataloader,\n",
    "                                                                                                    device, test_index,\n",
    "                                                                                                    bm25_top_n,\n",
    "                                                                                                    mrr_bert_list,\n",
    "                                                                                                    map_bert_list,\n",
    "                                                                                                    ndcg_bert_list,\n",
    "                                                                                                    mrr_bert, map_bert,\n",
    "                                                                                                    ndcg_bert, rel_fed,\n",
    "                                                                                                    fold_number,\n",
    "                                                                                                    MAP_CUT, NDCG_CUT)\n",
    "    print(\"  BM25 MRR:  \" + \"{:.4f}\".format(mrr_bm25 / 5))\n",
    "    print(\"  BM25 MAP:  \" + \"{:.4f}\".format(map_bm25 / 5))\n",
    "    print(\"  BM25 NDCG: \" + \"{:.4f}\".format(ndcg_bm25 / 5))\n",
    "\n",
    "    print(\"  BERT MRR:  \" + \"{:.4f}\".format(mrr_bert / 5))\n",
    "    print(\"  BERT MAP:  \" + \"{:.4f}\".format(map_bert / 5))\n",
    "    print(\"  BERT NDCG: \" + \"{:.4f}\".format(ndcg_bert / 5))\n",
    "\n",
    "    utils.t_test(mrr_bm25_list, mrr_bert_list, 'MRR')\n",
    "    utils.t_test(map_bm25_list, map_bert_list, 'MAP')\n",
    "    utils.t_test(ndcg_bm25_list, ndcg_bert_list, 'NDCG')\n",
    "    \n",
    "    stop = timeit.default_timer()\n",
    "    wall_time = (stop - start) / 60 \n",
    "\n",
    "    print('Time: ', wall_time, ' min') \n",
    "\n",
    "    # utils.results_to_csv('./mrr_bm25_list.csv', mrr_bm25_list)\n",
    "    # utils.results_to_csv('./mrr_bert_list.csv', mrr_bert_list)\n",
    "    # utils.results_to_csv('./map_bm25_list.csv', map_bm25_list)\n",
    "    # utils.results_to_csv('./map_bert_list.csv', map_bert_list)\n",
    "    # utils.results_to_csv('./ndcg_bm25_list.csv', ndcg_bm25_list)\n",
    "    # utils.results_to_csv('./ndcg_bert_list.csv', ndcg_bert_list)"
   ]
  },
  {
   "cell_type": "code",
   "execution_count": 13,
   "metadata": {
    "executionInfo": {
     "elapsed": 9,
     "status": "aborted",
     "timestamp": 1632132244507,
     "user": {
      "displayName": "Maurice Verbrugge",
      "photoUrl": "https://lh3.googleusercontent.com/a-/AOh14GgqmdBO0giQPluidHjemi6aWvts_C_AZ5rqt1Y4yA=s64",
      "userId": "18106956806494538064"
     },
     "user_tz": -120
    },
    "id": "b-DEy5MapwMc"
   },
   "outputs": [
    {
     "name": "stdout",
     "output_type": "stream",
     "text": [
      "# ========================================\n",
      "#               Hyper-Parameters\n",
      "Re-ranker\n",
      "bert-base-uncased\n",
      "2e-05\n",
      "128\n",
      "32\n",
      "1\n",
      "# ========================================\n",
      "#               Experiment-Settings\n",
      "BM25_ENRICHMENT:  default\n",
      "BM25_ENRICHMENT:  default\n",
      "# ========================================\n",
      "#               Other\n",
      "Tesla T4\n",
      "# ========================================\n",
      "GPU Type: Tesla T4\n"
     ]
    },
    {
     "name": "stderr",
     "output_type": "stream",
     "text": [
      "/opt/conda/lib/python3.7/site-packages/transformers/tokenization_utils_base.py:2204: FutureWarning: The `pad_to_max_length` argument is deprecated and will be removed in a future version, use `padding=True` or `padding='longest'` to pad to the longest sequence in the batch, or use `padding='max_length'` to pad to a max length. In this case, you can give a specific length with `max_length` (e.g. `max_length=45`) or leave max_length to None to pad to the maximal input size of the model (e.g. 512 for Bert).\n",
      "  FutureWarning,\n"
     ]
    },
    {
     "name": "stdout",
     "output_type": "stream",
     "text": [
      "======== Fold 1 / 5 ========\n",
      "MRR:  0.7837\n",
      "MAP:  0.3493\n",
      "NDCG: 0.5011\n",
      "45\n"
     ]
    },
    {
     "name": "stderr",
     "output_type": "stream",
     "text": [
      "Some weights of the model checkpoint at bert-base-uncased were not used when initializing BertForSequenceClassification: ['cls.predictions.transform.dense.weight', 'cls.predictions.transform.LayerNorm.weight', 'cls.predictions.transform.dense.bias', 'cls.predictions.decoder.weight', 'cls.seq_relationship.bias', 'cls.predictions.transform.LayerNorm.bias', 'cls.seq_relationship.weight', 'cls.predictions.bias']\n",
      "- This IS expected if you are initializing BertForSequenceClassification from the checkpoint of a model trained on another task or with another architecture (e.g. initializing a BertForSequenceClassification model from a BertForPreTraining model).\n",
      "- This IS NOT expected if you are initializing BertForSequenceClassification from the checkpoint of a model that you expect to be exactly identical (initializing a BertForSequenceClassification model from a BertForSequenceClassification model).\n",
      "Some weights of BertForSequenceClassification were not initialized from the model checkpoint at bert-base-uncased and are newly initialized: ['classifier.weight', 'classifier.bias']\n",
      "You should probably TRAIN this model on a down-stream task to be able to use it for predictions and inference.\n"
     ]
    },
    {
     "name": "stdout",
     "output_type": "stream",
     "text": [
      "LOAD :  /home/jupyter/BERT-BM25-Thesis-Project/Models/BERT_Cranfield_MLM_model-128-16-5e-05-2.bin\n",
      "======== Epoch 1 / 1 ========\n",
      "Training...\n",
      "  Batch   100  of    563.\n",
      "  Batch   200  of    563.\n",
      "  Batch   300  of    563.\n",
      "  Batch   400  of    563.\n",
      "  Batch   500  of    563.\n",
      "  Average training loss: 0.1526\n",
      "Testing...\n",
      "  Test MRR:  0.8102\n",
      "  Test MAP:  0.4167\n",
      "  Test NDCG: 0.5537\n",
      "45\n",
      "======== Fold 2 / 5 ========\n",
      "MRR:  0.6596\n",
      "MAP:  0.3036\n",
      "NDCG: 0.4546\n",
      "90\n"
     ]
    },
    {
     "name": "stderr",
     "output_type": "stream",
     "text": [
      "Some weights of the model checkpoint at bert-base-uncased were not used when initializing BertForSequenceClassification: ['cls.predictions.transform.dense.weight', 'cls.predictions.transform.LayerNorm.weight', 'cls.predictions.transform.dense.bias', 'cls.predictions.decoder.weight', 'cls.seq_relationship.bias', 'cls.predictions.transform.LayerNorm.bias', 'cls.seq_relationship.weight', 'cls.predictions.bias']\n",
      "- This IS expected if you are initializing BertForSequenceClassification from the checkpoint of a model trained on another task or with another architecture (e.g. initializing a BertForSequenceClassification model from a BertForPreTraining model).\n",
      "- This IS NOT expected if you are initializing BertForSequenceClassification from the checkpoint of a model that you expect to be exactly identical (initializing a BertForSequenceClassification model from a BertForSequenceClassification model).\n",
      "Some weights of BertForSequenceClassification were not initialized from the model checkpoint at bert-base-uncased and are newly initialized: ['classifier.weight', 'classifier.bias']\n",
      "You should probably TRAIN this model on a down-stream task to be able to use it for predictions and inference.\n"
     ]
    },
    {
     "name": "stdout",
     "output_type": "stream",
     "text": [
      "LOAD :  /home/jupyter/BERT-BM25-Thesis-Project/Models/BERT_Cranfield_MLM_model-128-16-5e-05-2.bin\n",
      "======== Epoch 1 / 1 ========\n",
      "Training...\n",
      "  Batch   100  of    563.\n",
      "  Batch   200  of    563.\n",
      "  Batch   300  of    563.\n",
      "  Batch   400  of    563.\n",
      "  Batch   500  of    563.\n",
      "  Average training loss: 0.1630\n",
      "Testing...\n",
      "  Test MRR:  0.6891\n",
      "  Test MAP:  0.3470\n",
      "  Test NDCG: 0.4974\n",
      "90\n",
      "======== Fold 3 / 5 ========\n",
      "MRR:  0.7611\n",
      "MAP:  0.3341\n",
      "NDCG: 0.4826\n",
      "135\n"
     ]
    },
    {
     "name": "stderr",
     "output_type": "stream",
     "text": [
      "Some weights of the model checkpoint at bert-base-uncased were not used when initializing BertForSequenceClassification: ['cls.predictions.transform.dense.weight', 'cls.predictions.transform.LayerNorm.weight', 'cls.predictions.transform.dense.bias', 'cls.predictions.decoder.weight', 'cls.seq_relationship.bias', 'cls.predictions.transform.LayerNorm.bias', 'cls.seq_relationship.weight', 'cls.predictions.bias']\n",
      "- This IS expected if you are initializing BertForSequenceClassification from the checkpoint of a model trained on another task or with another architecture (e.g. initializing a BertForSequenceClassification model from a BertForPreTraining model).\n",
      "- This IS NOT expected if you are initializing BertForSequenceClassification from the checkpoint of a model that you expect to be exactly identical (initializing a BertForSequenceClassification model from a BertForSequenceClassification model).\n",
      "Some weights of BertForSequenceClassification were not initialized from the model checkpoint at bert-base-uncased and are newly initialized: ['classifier.weight', 'classifier.bias']\n",
      "You should probably TRAIN this model on a down-stream task to be able to use it for predictions and inference.\n"
     ]
    },
    {
     "name": "stdout",
     "output_type": "stream",
     "text": [
      "LOAD :  /home/jupyter/BERT-BM25-Thesis-Project/Models/BERT_Cranfield_MLM_model-128-16-5e-05-2.bin\n",
      "======== Epoch 1 / 1 ========\n",
      "Training...\n",
      "  Batch   100  of    563.\n",
      "  Batch   200  of    563.\n",
      "  Batch   300  of    563.\n",
      "  Batch   400  of    563.\n",
      "  Batch   500  of    563.\n",
      "  Average training loss: 0.1533\n",
      "Testing...\n",
      "  Test MRR:  0.8606\n",
      "  Test MAP:  0.4459\n",
      "  Test NDCG: 0.5830\n",
      "135\n",
      "======== Fold 4 / 5 ========\n",
      "MRR:  0.6859\n",
      "MAP:  0.3317\n",
      "NDCG: 0.4408\n",
      "180\n"
     ]
    },
    {
     "name": "stderr",
     "output_type": "stream",
     "text": [
      "Some weights of the model checkpoint at bert-base-uncased were not used when initializing BertForSequenceClassification: ['cls.predictions.transform.dense.weight', 'cls.predictions.transform.LayerNorm.weight', 'cls.predictions.transform.dense.bias', 'cls.predictions.decoder.weight', 'cls.seq_relationship.bias', 'cls.predictions.transform.LayerNorm.bias', 'cls.seq_relationship.weight', 'cls.predictions.bias']\n",
      "- This IS expected if you are initializing BertForSequenceClassification from the checkpoint of a model trained on another task or with another architecture (e.g. initializing a BertForSequenceClassification model from a BertForPreTraining model).\n",
      "- This IS NOT expected if you are initializing BertForSequenceClassification from the checkpoint of a model that you expect to be exactly identical (initializing a BertForSequenceClassification model from a BertForSequenceClassification model).\n",
      "Some weights of BertForSequenceClassification were not initialized from the model checkpoint at bert-base-uncased and are newly initialized: ['classifier.weight', 'classifier.bias']\n",
      "You should probably TRAIN this model on a down-stream task to be able to use it for predictions and inference.\n"
     ]
    },
    {
     "name": "stdout",
     "output_type": "stream",
     "text": [
      "LOAD :  /home/jupyter/BERT-BM25-Thesis-Project/Models/BERT_Cranfield_MLM_model-128-16-5e-05-2.bin\n",
      "======== Epoch 1 / 1 ========\n",
      "Training...\n",
      "  Batch   100  of    563.\n",
      "  Batch   200  of    563.\n",
      "  Batch   300  of    563.\n",
      "  Batch   400  of    563.\n",
      "  Batch   500  of    563.\n",
      "  Average training loss: 0.1522\n",
      "Testing...\n",
      "  Test MRR:  0.7276\n",
      "  Test MAP:  0.4081\n",
      "  Test NDCG: 0.5027\n",
      "180\n",
      "======== Fold 5 / 5 ========\n",
      "MRR:  0.7796\n",
      "MAP:  0.3182\n",
      "NDCG: 0.4780\n",
      "225\n"
     ]
    },
    {
     "name": "stderr",
     "output_type": "stream",
     "text": [
      "Some weights of the model checkpoint at bert-base-uncased were not used when initializing BertForSequenceClassification: ['cls.predictions.transform.dense.weight', 'cls.predictions.transform.LayerNorm.weight', 'cls.predictions.transform.dense.bias', 'cls.predictions.decoder.weight', 'cls.seq_relationship.bias', 'cls.predictions.transform.LayerNorm.bias', 'cls.seq_relationship.weight', 'cls.predictions.bias']\n",
      "- This IS expected if you are initializing BertForSequenceClassification from the checkpoint of a model trained on another task or with another architecture (e.g. initializing a BertForSequenceClassification model from a BertForPreTraining model).\n",
      "- This IS NOT expected if you are initializing BertForSequenceClassification from the checkpoint of a model that you expect to be exactly identical (initializing a BertForSequenceClassification model from a BertForSequenceClassification model).\n",
      "Some weights of BertForSequenceClassification were not initialized from the model checkpoint at bert-base-uncased and are newly initialized: ['classifier.weight', 'classifier.bias']\n",
      "You should probably TRAIN this model on a down-stream task to be able to use it for predictions and inference.\n"
     ]
    },
    {
     "name": "stdout",
     "output_type": "stream",
     "text": [
      "LOAD :  /home/jupyter/BERT-BM25-Thesis-Project/Models/BERT_Cranfield_MLM_model-128-16-5e-05-2.bin\n",
      "======== Epoch 1 / 1 ========\n",
      "Training...\n",
      "  Batch   100  of    563.\n",
      "  Batch   200  of    563.\n",
      "  Batch   300  of    563.\n",
      "  Batch   400  of    563.\n",
      "  Batch   500  of    563.\n",
      "  Average training loss: 0.1446\n",
      "Testing...\n",
      "  Test MRR:  0.8408\n",
      "  Test MAP:  0.4283\n",
      "  Test NDCG: 0.5888\n",
      "225\n",
      "  BM25 MRR:  0.7340\n",
      "  BM25 MAP:  0.3274\n",
      "  BM25 NDCG: 0.4714\n",
      "  BERT MRR:  0.7857\n",
      "  BERT MAP:  0.4092\n",
      "  BERT NDCG: 0.5451\n",
      "p-value MRR: 0.1364\n",
      "p-value MAP: 0.0009\n",
      "p-value NDCG: 0.0037\n",
      "Time:  41.9601148016  min\n"
     ]
    }
   ],
   "source": [
    "train_test()"
   ]
  },
  {
   "cell_type": "code",
   "execution_count": 14,
   "metadata": {},
   "outputs": [],
   "source": [
    "# ========================================\n",
    "#               Hyper-Parameters\n",
    "# ========================================\n",
    "SEED = 76\n",
    "MODE = 'Re-ranker'\n",
    "MODEL_TYPE = 'bert-base-uncased'\n",
    "LEARNING_RATE = 2e-5\n",
    "MAX_LENGTH = 128\n",
    "BATCH_SIZE = 32\n",
    "EPOCHS = 2\n",
    "TOP_BM25 = 100\n",
    "MAP_CUT = 100\n",
    "NDCG_CUT = 20\n",
    "if MODE == 'Full-ranker':\n",
    "    TEST_BATCH_SIZE = 1400\n",
    "else:\n",
    "    TEST_BATCH_SIZE = 100\n",
    "\n",
    "# Set the seed value all over the place to make this reproducible.\n",
    "utils.initialize_random_generators(SEED)\n",
    "\n",
    "BM25_ENRICH = 'default' # or 'add' or 'swap' (default=no enrichment of BM25 results)\n",
    "\n",
    "LOAD_CUSTOM_TRAINED_MODEL = True\n",
    "DO_FREEZING = False"
   ]
  },
  {
   "cell_type": "code",
   "execution_count": 15,
   "metadata": {},
   "outputs": [
    {
     "name": "stdout",
     "output_type": "stream",
     "text": [
      "# ========================================\n",
      "#               Hyper-Parameters\n",
      "Re-ranker\n",
      "bert-base-uncased\n",
      "2e-05\n",
      "128\n",
      "32\n",
      "2\n",
      "# ========================================\n",
      "#               Experiment-Settings\n",
      "BM25_ENRICHMENT:  default\n",
      "BM25_ENRICHMENT:  default\n",
      "# ========================================\n",
      "#               Other\n",
      "Tesla T4\n",
      "# ========================================\n",
      "GPU Type: Tesla T4\n",
      "======== Fold 1 / 5 ========\n",
      "MRR:  0.7837\n",
      "MAP:  0.3493\n",
      "NDCG: 0.5011\n",
      "45\n"
     ]
    },
    {
     "name": "stderr",
     "output_type": "stream",
     "text": [
      "Some weights of the model checkpoint at bert-base-uncased were not used when initializing BertForSequenceClassification: ['cls.predictions.transform.dense.weight', 'cls.predictions.transform.LayerNorm.weight', 'cls.predictions.transform.dense.bias', 'cls.predictions.decoder.weight', 'cls.seq_relationship.bias', 'cls.predictions.transform.LayerNorm.bias', 'cls.seq_relationship.weight', 'cls.predictions.bias']\n",
      "- This IS expected if you are initializing BertForSequenceClassification from the checkpoint of a model trained on another task or with another architecture (e.g. initializing a BertForSequenceClassification model from a BertForPreTraining model).\n",
      "- This IS NOT expected if you are initializing BertForSequenceClassification from the checkpoint of a model that you expect to be exactly identical (initializing a BertForSequenceClassification model from a BertForSequenceClassification model).\n",
      "Some weights of BertForSequenceClassification were not initialized from the model checkpoint at bert-base-uncased and are newly initialized: ['classifier.weight', 'classifier.bias']\n",
      "You should probably TRAIN this model on a down-stream task to be able to use it for predictions and inference.\n"
     ]
    },
    {
     "name": "stdout",
     "output_type": "stream",
     "text": [
      "LOAD :  /home/jupyter/BERT-BM25-Thesis-Project/Models/BERT_Cranfield_MLM_model-128-16-5e-05-2.bin\n",
      "======== Epoch 1 / 2 ========\n",
      "Training...\n",
      "  Batch   100  of    563.\n",
      "  Batch   200  of    563.\n",
      "  Batch   300  of    563.\n",
      "  Batch   400  of    563.\n",
      "  Batch   500  of    563.\n",
      "  Average training loss: 0.1542\n",
      "======== Epoch 2 / 2 ========\n",
      "Training...\n",
      "  Batch   100  of    563.\n",
      "  Batch   200  of    563.\n",
      "  Batch   300  of    563.\n",
      "  Batch   400  of    563.\n",
      "  Batch   500  of    563.\n",
      "  Average training loss: 0.1090\n",
      "Testing...\n",
      "  Test MRR:  0.8686\n",
      "  Test MAP:  0.4380\n",
      "  Test NDCG: 0.5812\n",
      "45\n",
      "======== Fold 2 / 5 ========\n",
      "MRR:  0.6596\n",
      "MAP:  0.3036\n",
      "NDCG: 0.4546\n",
      "90\n"
     ]
    },
    {
     "name": "stderr",
     "output_type": "stream",
     "text": [
      "Some weights of the model checkpoint at bert-base-uncased were not used when initializing BertForSequenceClassification: ['cls.predictions.transform.dense.weight', 'cls.predictions.transform.LayerNorm.weight', 'cls.predictions.transform.dense.bias', 'cls.predictions.decoder.weight', 'cls.seq_relationship.bias', 'cls.predictions.transform.LayerNorm.bias', 'cls.seq_relationship.weight', 'cls.predictions.bias']\n",
      "- This IS expected if you are initializing BertForSequenceClassification from the checkpoint of a model trained on another task or with another architecture (e.g. initializing a BertForSequenceClassification model from a BertForPreTraining model).\n",
      "- This IS NOT expected if you are initializing BertForSequenceClassification from the checkpoint of a model that you expect to be exactly identical (initializing a BertForSequenceClassification model from a BertForSequenceClassification model).\n",
      "Some weights of BertForSequenceClassification were not initialized from the model checkpoint at bert-base-uncased and are newly initialized: ['classifier.weight', 'classifier.bias']\n",
      "You should probably TRAIN this model on a down-stream task to be able to use it for predictions and inference.\n"
     ]
    },
    {
     "name": "stdout",
     "output_type": "stream",
     "text": [
      "LOAD :  /home/jupyter/BERT-BM25-Thesis-Project/Models/BERT_Cranfield_MLM_model-128-16-5e-05-2.bin\n",
      "======== Epoch 1 / 2 ========\n",
      "Training...\n",
      "  Batch   100  of    563.\n",
      "  Batch   200  of    563.\n",
      "  Batch   300  of    563.\n",
      "  Batch   400  of    563.\n",
      "  Batch   500  of    563.\n",
      "  Average training loss: 0.1603\n",
      "======== Epoch 2 / 2 ========\n",
      "Training...\n",
      "  Batch   100  of    563.\n",
      "  Batch   200  of    563.\n",
      "  Batch   300  of    563.\n",
      "  Batch   400  of    563.\n",
      "  Batch   500  of    563.\n",
      "  Average training loss: 0.1098\n",
      "Testing...\n",
      "  Test MRR:  0.7126\n",
      "  Test MAP:  0.3565\n",
      "  Test NDCG: 0.4982\n",
      "90\n",
      "======== Fold 3 / 5 ========\n",
      "MRR:  0.7611\n",
      "MAP:  0.3341\n",
      "NDCG: 0.4826\n",
      "135\n"
     ]
    },
    {
     "name": "stderr",
     "output_type": "stream",
     "text": [
      "Some weights of the model checkpoint at bert-base-uncased were not used when initializing BertForSequenceClassification: ['cls.predictions.transform.dense.weight', 'cls.predictions.transform.LayerNorm.weight', 'cls.predictions.transform.dense.bias', 'cls.predictions.decoder.weight', 'cls.seq_relationship.bias', 'cls.predictions.transform.LayerNorm.bias', 'cls.seq_relationship.weight', 'cls.predictions.bias']\n",
      "- This IS expected if you are initializing BertForSequenceClassification from the checkpoint of a model trained on another task or with another architecture (e.g. initializing a BertForSequenceClassification model from a BertForPreTraining model).\n",
      "- This IS NOT expected if you are initializing BertForSequenceClassification from the checkpoint of a model that you expect to be exactly identical (initializing a BertForSequenceClassification model from a BertForSequenceClassification model).\n",
      "Some weights of BertForSequenceClassification were not initialized from the model checkpoint at bert-base-uncased and are newly initialized: ['classifier.weight', 'classifier.bias']\n",
      "You should probably TRAIN this model on a down-stream task to be able to use it for predictions and inference.\n"
     ]
    },
    {
     "name": "stdout",
     "output_type": "stream",
     "text": [
      "LOAD :  /home/jupyter/BERT-BM25-Thesis-Project/Models/BERT_Cranfield_MLM_model-128-16-5e-05-2.bin\n",
      "======== Epoch 1 / 2 ========\n",
      "Training...\n",
      "  Batch   100  of    563.\n",
      "  Batch   200  of    563.\n",
      "  Batch   300  of    563.\n",
      "  Batch   400  of    563.\n",
      "  Batch   500  of    563.\n",
      "  Average training loss: 0.1585\n",
      "======== Epoch 2 / 2 ========\n",
      "Training...\n",
      "  Batch   100  of    563.\n",
      "  Batch   200  of    563.\n",
      "  Batch   300  of    563.\n",
      "  Batch   400  of    563.\n",
      "  Batch   500  of    563.\n",
      "  Average training loss: 0.1088\n",
      "Testing...\n",
      "  Test MRR:  0.8787\n",
      "  Test MAP:  0.4419\n",
      "  Test NDCG: 0.5835\n",
      "135\n",
      "======== Fold 4 / 5 ========\n",
      "MRR:  0.6859\n",
      "MAP:  0.3317\n",
      "NDCG: 0.4408\n",
      "180\n"
     ]
    },
    {
     "name": "stderr",
     "output_type": "stream",
     "text": [
      "Some weights of the model checkpoint at bert-base-uncased were not used when initializing BertForSequenceClassification: ['cls.predictions.transform.dense.weight', 'cls.predictions.transform.LayerNorm.weight', 'cls.predictions.transform.dense.bias', 'cls.predictions.decoder.weight', 'cls.seq_relationship.bias', 'cls.predictions.transform.LayerNorm.bias', 'cls.seq_relationship.weight', 'cls.predictions.bias']\n",
      "- This IS expected if you are initializing BertForSequenceClassification from the checkpoint of a model trained on another task or with another architecture (e.g. initializing a BertForSequenceClassification model from a BertForPreTraining model).\n",
      "- This IS NOT expected if you are initializing BertForSequenceClassification from the checkpoint of a model that you expect to be exactly identical (initializing a BertForSequenceClassification model from a BertForSequenceClassification model).\n",
      "Some weights of BertForSequenceClassification were not initialized from the model checkpoint at bert-base-uncased and are newly initialized: ['classifier.weight', 'classifier.bias']\n",
      "You should probably TRAIN this model on a down-stream task to be able to use it for predictions and inference.\n"
     ]
    },
    {
     "name": "stdout",
     "output_type": "stream",
     "text": [
      "LOAD :  /home/jupyter/BERT-BM25-Thesis-Project/Models/BERT_Cranfield_MLM_model-128-16-5e-05-2.bin\n",
      "======== Epoch 1 / 2 ========\n",
      "Training...\n",
      "  Batch   100  of    563.\n",
      "  Batch   200  of    563.\n",
      "  Batch   300  of    563.\n",
      "  Batch   400  of    563.\n",
      "  Batch   500  of    563.\n",
      "  Average training loss: 0.1641\n",
      "======== Epoch 2 / 2 ========\n",
      "Training...\n",
      "  Batch   100  of    563.\n",
      "  Batch   200  of    563.\n",
      "  Batch   300  of    563.\n",
      "  Batch   400  of    563.\n",
      "  Batch   500  of    563.\n",
      "  Average training loss: 0.1075\n",
      "Testing...\n",
      "  Test MRR:  0.7766\n",
      "  Test MAP:  0.4098\n",
      "  Test NDCG: 0.5110\n",
      "180\n",
      "======== Fold 5 / 5 ========\n",
      "MRR:  0.7796\n",
      "MAP:  0.3182\n",
      "NDCG: 0.4780\n",
      "225\n"
     ]
    },
    {
     "name": "stderr",
     "output_type": "stream",
     "text": [
      "Some weights of the model checkpoint at bert-base-uncased were not used when initializing BertForSequenceClassification: ['cls.predictions.transform.dense.weight', 'cls.predictions.transform.LayerNorm.weight', 'cls.predictions.transform.dense.bias', 'cls.predictions.decoder.weight', 'cls.seq_relationship.bias', 'cls.predictions.transform.LayerNorm.bias', 'cls.seq_relationship.weight', 'cls.predictions.bias']\n",
      "- This IS expected if you are initializing BertForSequenceClassification from the checkpoint of a model trained on another task or with another architecture (e.g. initializing a BertForSequenceClassification model from a BertForPreTraining model).\n",
      "- This IS NOT expected if you are initializing BertForSequenceClassification from the checkpoint of a model that you expect to be exactly identical (initializing a BertForSequenceClassification model from a BertForSequenceClassification model).\n",
      "Some weights of BertForSequenceClassification were not initialized from the model checkpoint at bert-base-uncased and are newly initialized: ['classifier.weight', 'classifier.bias']\n",
      "You should probably TRAIN this model on a down-stream task to be able to use it for predictions and inference.\n"
     ]
    },
    {
     "name": "stdout",
     "output_type": "stream",
     "text": [
      "LOAD :  /home/jupyter/BERT-BM25-Thesis-Project/Models/BERT_Cranfield_MLM_model-128-16-5e-05-2.bin\n",
      "======== Epoch 1 / 2 ========\n",
      "Training...\n",
      "  Batch   100  of    563.\n",
      "  Batch   200  of    563.\n",
      "  Batch   300  of    563.\n",
      "  Batch   400  of    563.\n",
      "  Batch   500  of    563.\n",
      "  Average training loss: 0.1480\n",
      "======== Epoch 2 / 2 ========\n",
      "Training...\n",
      "  Batch   100  of    563.\n",
      "  Batch   200  of    563.\n",
      "  Batch   300  of    563.\n",
      "  Batch   400  of    563.\n",
      "  Batch   500  of    563.\n",
      "  Average training loss: 0.1036\n",
      "Testing...\n",
      "  Test MRR:  0.8649\n",
      "  Test MAP:  0.4428\n",
      "  Test NDCG: 0.6001\n",
      "225\n",
      "  BM25 MRR:  0.7340\n",
      "  BM25 MAP:  0.3274\n",
      "  BM25 NDCG: 0.4714\n",
      "  BERT MRR:  0.8203\n",
      "  BERT MAP:  0.4178\n",
      "  BERT NDCG: 0.5548\n",
      "p-value MRR: 0.0108\n",
      "p-value MAP: 0.0002\n",
      "p-value NDCG: 0.0009\n",
      "Time:  77.83228954801667  min\n"
     ]
    }
   ],
   "source": [
    "train_test()"
   ]
  },
  {
   "cell_type": "code",
   "execution_count": 16,
   "metadata": {},
   "outputs": [],
   "source": [
    "# ========================================\n",
    "#               Hyper-Parameters\n",
    "# ========================================\n",
    "SEED = 76\n",
    "MODE = 'Re-ranker'\n",
    "MODEL_TYPE = 'bert-base-uncased'\n",
    "LEARNING_RATE = 3e-5\n",
    "MAX_LENGTH = 128\n",
    "BATCH_SIZE = 32\n",
    "EPOCHS = 1\n",
    "TOP_BM25 = 100\n",
    "MAP_CUT = 100\n",
    "NDCG_CUT = 20\n",
    "if MODE == 'Full-ranker':\n",
    "    TEST_BATCH_SIZE = 1400\n",
    "else:\n",
    "    TEST_BATCH_SIZE = 100\n",
    "\n",
    "# Set the seed value all over the place to make this reproducible.\n",
    "utils.initialize_random_generators(SEED)\n",
    "\n",
    "BM25_ENRICH = 'default' # or 'add' or 'swap' (default=no enrichment of BM25 results)\n",
    "\n",
    "LOAD_CUSTOM_TRAINED_MODEL = True\n",
    "DO_FREEZING = False"
   ]
  },
  {
   "cell_type": "code",
   "execution_count": 17,
   "metadata": {},
   "outputs": [
    {
     "name": "stdout",
     "output_type": "stream",
     "text": [
      "# ========================================\n",
      "#               Hyper-Parameters\n",
      "Re-ranker\n",
      "bert-base-uncased\n",
      "3e-05\n",
      "128\n",
      "32\n",
      "1\n",
      "# ========================================\n",
      "#               Experiment-Settings\n",
      "BM25_ENRICHMENT:  default\n",
      "BM25_ENRICHMENT:  default\n",
      "# ========================================\n",
      "#               Other\n",
      "Tesla T4\n",
      "# ========================================\n",
      "GPU Type: Tesla T4\n",
      "======== Fold 1 / 5 ========\n",
      "MRR:  0.7837\n",
      "MAP:  0.3493\n",
      "NDCG: 0.5011\n",
      "45\n"
     ]
    },
    {
     "name": "stderr",
     "output_type": "stream",
     "text": [
      "Some weights of the model checkpoint at bert-base-uncased were not used when initializing BertForSequenceClassification: ['cls.predictions.transform.dense.weight', 'cls.predictions.transform.LayerNorm.weight', 'cls.predictions.transform.dense.bias', 'cls.predictions.decoder.weight', 'cls.seq_relationship.bias', 'cls.predictions.transform.LayerNorm.bias', 'cls.seq_relationship.weight', 'cls.predictions.bias']\n",
      "- This IS expected if you are initializing BertForSequenceClassification from the checkpoint of a model trained on another task or with another architecture (e.g. initializing a BertForSequenceClassification model from a BertForPreTraining model).\n",
      "- This IS NOT expected if you are initializing BertForSequenceClassification from the checkpoint of a model that you expect to be exactly identical (initializing a BertForSequenceClassification model from a BertForSequenceClassification model).\n",
      "Some weights of BertForSequenceClassification were not initialized from the model checkpoint at bert-base-uncased and are newly initialized: ['classifier.weight', 'classifier.bias']\n",
      "You should probably TRAIN this model on a down-stream task to be able to use it for predictions and inference.\n"
     ]
    },
    {
     "name": "stdout",
     "output_type": "stream",
     "text": [
      "LOAD :  /home/jupyter/BERT-BM25-Thesis-Project/Models/BERT_Cranfield_MLM_model-128-16-5e-05-2.bin\n",
      "======== Epoch 1 / 1 ========\n",
      "Training...\n",
      "  Batch   100  of    563.\n",
      "  Batch   200  of    563.\n",
      "  Batch   300  of    563.\n",
      "  Batch   400  of    563.\n",
      "  Batch   500  of    563.\n",
      "  Average training loss: 0.1539\n",
      "Testing...\n",
      "  Test MRR:  0.8049\n",
      "  Test MAP:  0.4129\n",
      "  Test NDCG: 0.5518\n",
      "45\n",
      "======== Fold 2 / 5 ========\n",
      "MRR:  0.6596\n",
      "MAP:  0.3036\n",
      "NDCG: 0.4546\n",
      "90\n"
     ]
    },
    {
     "name": "stderr",
     "output_type": "stream",
     "text": [
      "Some weights of the model checkpoint at bert-base-uncased were not used when initializing BertForSequenceClassification: ['cls.predictions.transform.dense.weight', 'cls.predictions.transform.LayerNorm.weight', 'cls.predictions.transform.dense.bias', 'cls.predictions.decoder.weight', 'cls.seq_relationship.bias', 'cls.predictions.transform.LayerNorm.bias', 'cls.seq_relationship.weight', 'cls.predictions.bias']\n",
      "- This IS expected if you are initializing BertForSequenceClassification from the checkpoint of a model trained on another task or with another architecture (e.g. initializing a BertForSequenceClassification model from a BertForPreTraining model).\n",
      "- This IS NOT expected if you are initializing BertForSequenceClassification from the checkpoint of a model that you expect to be exactly identical (initializing a BertForSequenceClassification model from a BertForSequenceClassification model).\n",
      "Some weights of BertForSequenceClassification were not initialized from the model checkpoint at bert-base-uncased and are newly initialized: ['classifier.weight', 'classifier.bias']\n",
      "You should probably TRAIN this model on a down-stream task to be able to use it for predictions and inference.\n"
     ]
    },
    {
     "name": "stdout",
     "output_type": "stream",
     "text": [
      "LOAD :  /home/jupyter/BERT-BM25-Thesis-Project/Models/BERT_Cranfield_MLM_model-128-16-5e-05-2.bin\n",
      "======== Epoch 1 / 1 ========\n",
      "Training...\n",
      "  Batch   100  of    563.\n",
      "  Batch   200  of    563.\n",
      "  Batch   300  of    563.\n",
      "  Batch   400  of    563.\n",
      "  Batch   500  of    563.\n",
      "  Average training loss: 0.1570\n",
      "Testing...\n",
      "  Test MRR:  0.7533\n",
      "  Test MAP:  0.3608\n",
      "  Test NDCG: 0.5122\n",
      "90\n",
      "======== Fold 3 / 5 ========\n",
      "MRR:  0.7611\n",
      "MAP:  0.3341\n",
      "NDCG: 0.4826\n",
      "135\n"
     ]
    },
    {
     "name": "stderr",
     "output_type": "stream",
     "text": [
      "Some weights of the model checkpoint at bert-base-uncased were not used when initializing BertForSequenceClassification: ['cls.predictions.transform.dense.weight', 'cls.predictions.transform.LayerNorm.weight', 'cls.predictions.transform.dense.bias', 'cls.predictions.decoder.weight', 'cls.seq_relationship.bias', 'cls.predictions.transform.LayerNorm.bias', 'cls.seq_relationship.weight', 'cls.predictions.bias']\n",
      "- This IS expected if you are initializing BertForSequenceClassification from the checkpoint of a model trained on another task or with another architecture (e.g. initializing a BertForSequenceClassification model from a BertForPreTraining model).\n",
      "- This IS NOT expected if you are initializing BertForSequenceClassification from the checkpoint of a model that you expect to be exactly identical (initializing a BertForSequenceClassification model from a BertForSequenceClassification model).\n",
      "Some weights of BertForSequenceClassification were not initialized from the model checkpoint at bert-base-uncased and are newly initialized: ['classifier.weight', 'classifier.bias']\n",
      "You should probably TRAIN this model on a down-stream task to be able to use it for predictions and inference.\n"
     ]
    },
    {
     "name": "stdout",
     "output_type": "stream",
     "text": [
      "LOAD :  /home/jupyter/BERT-BM25-Thesis-Project/Models/BERT_Cranfield_MLM_model-128-16-5e-05-2.bin\n",
      "======== Epoch 1 / 1 ========\n",
      "Training...\n",
      "  Batch   100  of    563.\n",
      "  Batch   200  of    563.\n",
      "  Batch   300  of    563.\n",
      "  Batch   400  of    563.\n",
      "  Batch   500  of    563.\n",
      "  Average training loss: 0.1520\n",
      "Testing...\n",
      "  Test MRR:  0.8530\n",
      "  Test MAP:  0.4448\n",
      "  Test NDCG: 0.5833\n",
      "135\n",
      "======== Fold 4 / 5 ========\n",
      "MRR:  0.6859\n",
      "MAP:  0.3317\n",
      "NDCG: 0.4408\n",
      "180\n"
     ]
    },
    {
     "name": "stderr",
     "output_type": "stream",
     "text": [
      "Some weights of the model checkpoint at bert-base-uncased were not used when initializing BertForSequenceClassification: ['cls.predictions.transform.dense.weight', 'cls.predictions.transform.LayerNorm.weight', 'cls.predictions.transform.dense.bias', 'cls.predictions.decoder.weight', 'cls.seq_relationship.bias', 'cls.predictions.transform.LayerNorm.bias', 'cls.seq_relationship.weight', 'cls.predictions.bias']\n",
      "- This IS expected if you are initializing BertForSequenceClassification from the checkpoint of a model trained on another task or with another architecture (e.g. initializing a BertForSequenceClassification model from a BertForPreTraining model).\n",
      "- This IS NOT expected if you are initializing BertForSequenceClassification from the checkpoint of a model that you expect to be exactly identical (initializing a BertForSequenceClassification model from a BertForSequenceClassification model).\n",
      "Some weights of BertForSequenceClassification were not initialized from the model checkpoint at bert-base-uncased and are newly initialized: ['classifier.weight', 'classifier.bias']\n",
      "You should probably TRAIN this model on a down-stream task to be able to use it for predictions and inference.\n"
     ]
    },
    {
     "name": "stdout",
     "output_type": "stream",
     "text": [
      "LOAD :  /home/jupyter/BERT-BM25-Thesis-Project/Models/BERT_Cranfield_MLM_model-128-16-5e-05-2.bin\n",
      "======== Epoch 1 / 1 ========\n",
      "Training...\n",
      "  Batch   100  of    563.\n",
      "  Batch   200  of    563.\n",
      "  Batch   300  of    563.\n",
      "  Batch   400  of    563.\n",
      "  Batch   500  of    563.\n",
      "  Average training loss: 0.1521\n",
      "Testing...\n",
      "  Test MRR:  0.7484\n",
      "  Test MAP:  0.4169\n",
      "  Test NDCG: 0.5069\n",
      "180\n",
      "======== Fold 5 / 5 ========\n",
      "MRR:  0.7796\n",
      "MAP:  0.3182\n",
      "NDCG: 0.4780\n",
      "225\n"
     ]
    },
    {
     "name": "stderr",
     "output_type": "stream",
     "text": [
      "Some weights of the model checkpoint at bert-base-uncased were not used when initializing BertForSequenceClassification: ['cls.predictions.transform.dense.weight', 'cls.predictions.transform.LayerNorm.weight', 'cls.predictions.transform.dense.bias', 'cls.predictions.decoder.weight', 'cls.seq_relationship.bias', 'cls.predictions.transform.LayerNorm.bias', 'cls.seq_relationship.weight', 'cls.predictions.bias']\n",
      "- This IS expected if you are initializing BertForSequenceClassification from the checkpoint of a model trained on another task or with another architecture (e.g. initializing a BertForSequenceClassification model from a BertForPreTraining model).\n",
      "- This IS NOT expected if you are initializing BertForSequenceClassification from the checkpoint of a model that you expect to be exactly identical (initializing a BertForSequenceClassification model from a BertForSequenceClassification model).\n",
      "Some weights of BertForSequenceClassification were not initialized from the model checkpoint at bert-base-uncased and are newly initialized: ['classifier.weight', 'classifier.bias']\n",
      "You should probably TRAIN this model on a down-stream task to be able to use it for predictions and inference.\n"
     ]
    },
    {
     "name": "stdout",
     "output_type": "stream",
     "text": [
      "LOAD :  /home/jupyter/BERT-BM25-Thesis-Project/Models/BERT_Cranfield_MLM_model-128-16-5e-05-2.bin\n",
      "======== Epoch 1 / 1 ========\n",
      "Training...\n",
      "  Batch   100  of    563.\n",
      "  Batch   200  of    563.\n",
      "  Batch   300  of    563.\n",
      "  Batch   400  of    563.\n",
      "  Batch   500  of    563.\n",
      "  Average training loss: 0.1745\n",
      "Testing...\n",
      "  Test MRR:  0.8060\n",
      "  Test MAP:  0.3982\n",
      "  Test NDCG: 0.5358\n",
      "225\n",
      "  BM25 MRR:  0.7340\n",
      "  BM25 MAP:  0.3274\n",
      "  BM25 NDCG: 0.4714\n",
      "  BERT MRR:  0.7931\n",
      "  BERT MAP:  0.4067\n",
      "  BERT NDCG: 0.5380\n",
      "p-value MRR: 0.0874\n",
      "p-value MAP: 0.0015\n",
      "p-value NDCG: 0.0085\n",
      "Time:  41.5936877599  min\n"
     ]
    }
   ],
   "source": [
    "train_test()"
   ]
  },
  {
   "cell_type": "code",
   "execution_count": 10,
   "metadata": {},
   "outputs": [],
   "source": [
    "# ========================================\n",
    "#               Hyper-Parameters\n",
    "# ========================================\n",
    "SEED = 76\n",
    "MODE = 'Re-ranker'\n",
    "MODEL_TYPE = 'bert-base-uncased'\n",
    "LEARNING_RATE = 3e-5\n",
    "MAX_LENGTH = 128\n",
    "BATCH_SIZE = 32\n",
    "EPOCHS = 2\n",
    "TOP_BM25 = 100\n",
    "MAP_CUT = 100\n",
    "NDCG_CUT = 20\n",
    "if MODE == 'Full-ranker':\n",
    "    TEST_BATCH_SIZE = 1400\n",
    "else:\n",
    "    TEST_BATCH_SIZE = 100\n",
    "\n",
    "# Set the seed value all over the place to make this reproducible.\n",
    "utils.initialize_random_generators(SEED)\n",
    "\n",
    "BM25_ENRICH = 'default' # or 'add' or 'swap' (default=no enrichment of BM25 results)\n",
    "\n",
    "LOAD_CUSTOM_TRAINED_MODEL = True\n",
    "DO_FREEZING = False"
   ]
  },
  {
   "cell_type": "code",
   "execution_count": 11,
   "metadata": {},
   "outputs": [
    {
     "name": "stdout",
     "output_type": "stream",
     "text": [
      "# ========================================\n",
      "#               Hyper-Parameters\n",
      "Re-ranker\n",
      "bert-base-uncased\n",
      "3e-05\n",
      "128\n",
      "32\n",
      "2\n",
      "# ========================================\n",
      "#               Experiment-Settings\n",
      "BM25_ENRICHMENT:  default\n",
      "BM25_ENRICHMENT:  default\n",
      "# ========================================\n",
      "#               Other\n",
      "Tesla T4\n",
      "# ========================================\n",
      "GPU Type: Tesla T4\n"
     ]
    },
    {
     "name": "stderr",
     "output_type": "stream",
     "text": [
      "/opt/conda/lib/python3.7/site-packages/transformers/tokenization_utils_base.py:2204: FutureWarning: The `pad_to_max_length` argument is deprecated and will be removed in a future version, use `padding=True` or `padding='longest'` to pad to the longest sequence in the batch, or use `padding='max_length'` to pad to a max length. In this case, you can give a specific length with `max_length` (e.g. `max_length=45`) or leave max_length to None to pad to the maximal input size of the model (e.g. 512 for Bert).\n",
      "  FutureWarning,\n"
     ]
    },
    {
     "name": "stdout",
     "output_type": "stream",
     "text": [
      "======== Fold 1 / 5 ========\n",
      "MRR:  0.7837\n",
      "MAP:  0.3493\n",
      "NDCG: 0.5011\n",
      "45\n"
     ]
    },
    {
     "name": "stderr",
     "output_type": "stream",
     "text": [
      "Some weights of the model checkpoint at bert-base-uncased were not used when initializing BertForSequenceClassification: ['cls.seq_relationship.bias', 'cls.predictions.decoder.weight', 'cls.predictions.transform.LayerNorm.bias', 'cls.predictions.bias', 'cls.seq_relationship.weight', 'cls.predictions.transform.dense.bias', 'cls.predictions.transform.dense.weight', 'cls.predictions.transform.LayerNorm.weight']\n",
      "- This IS expected if you are initializing BertForSequenceClassification from the checkpoint of a model trained on another task or with another architecture (e.g. initializing a BertForSequenceClassification model from a BertForPreTraining model).\n",
      "- This IS NOT expected if you are initializing BertForSequenceClassification from the checkpoint of a model that you expect to be exactly identical (initializing a BertForSequenceClassification model from a BertForSequenceClassification model).\n",
      "Some weights of BertForSequenceClassification were not initialized from the model checkpoint at bert-base-uncased and are newly initialized: ['classifier.weight', 'classifier.bias']\n",
      "You should probably TRAIN this model on a down-stream task to be able to use it for predictions and inference.\n"
     ]
    },
    {
     "name": "stdout",
     "output_type": "stream",
     "text": [
      "LOAD :  /home/jupyter/BERT-BM25-Thesis-Project/Models/BERT_Cranfield_MLM_model-128-16-5e-05-2.bin\n",
      "======== Epoch 1 / 2 ========\n",
      "Training...\n",
      "  Batch   100  of    563.\n",
      "  Batch   200  of    563.\n",
      "  Batch   300  of    563.\n",
      "  Batch   400  of    563.\n",
      "  Batch   500  of    563.\n",
      "  Average training loss: 0.1575\n",
      "======== Epoch 2 / 2 ========\n",
      "Training...\n",
      "  Batch   100  of    563.\n",
      "  Batch   200  of    563.\n",
      "  Batch   300  of    563.\n",
      "  Batch   400  of    563.\n",
      "  Batch   500  of    563.\n",
      "  Average training loss: 0.1075\n",
      "Testing...\n",
      "  Test MRR:  0.8422\n",
      "  Test MAP:  0.4311\n",
      "  Test NDCG: 0.5820\n",
      "45\n",
      "======== Fold 2 / 5 ========\n",
      "MRR:  0.6596\n",
      "MAP:  0.3036\n",
      "NDCG: 0.4546\n",
      "90\n"
     ]
    },
    {
     "name": "stderr",
     "output_type": "stream",
     "text": [
      "Some weights of the model checkpoint at bert-base-uncased were not used when initializing BertForSequenceClassification: ['cls.seq_relationship.bias', 'cls.predictions.decoder.weight', 'cls.predictions.transform.LayerNorm.bias', 'cls.predictions.bias', 'cls.seq_relationship.weight', 'cls.predictions.transform.dense.bias', 'cls.predictions.transform.dense.weight', 'cls.predictions.transform.LayerNorm.weight']\n",
      "- This IS expected if you are initializing BertForSequenceClassification from the checkpoint of a model trained on another task or with another architecture (e.g. initializing a BertForSequenceClassification model from a BertForPreTraining model).\n",
      "- This IS NOT expected if you are initializing BertForSequenceClassification from the checkpoint of a model that you expect to be exactly identical (initializing a BertForSequenceClassification model from a BertForSequenceClassification model).\n",
      "Some weights of BertForSequenceClassification were not initialized from the model checkpoint at bert-base-uncased and are newly initialized: ['classifier.weight', 'classifier.bias']\n",
      "You should probably TRAIN this model on a down-stream task to be able to use it for predictions and inference.\n"
     ]
    },
    {
     "name": "stdout",
     "output_type": "stream",
     "text": [
      "LOAD :  /home/jupyter/BERT-BM25-Thesis-Project/Models/BERT_Cranfield_MLM_model-128-16-5e-05-2.bin\n",
      "======== Epoch 1 / 2 ========\n",
      "Training...\n",
      "  Batch   100  of    563.\n",
      "  Batch   200  of    563.\n",
      "  Batch   300  of    563.\n",
      "  Batch   400  of    563.\n",
      "  Batch   500  of    563.\n",
      "  Average training loss: 0.1574\n",
      "======== Epoch 2 / 2 ========\n",
      "Training...\n",
      "  Batch   100  of    563.\n",
      "  Batch   200  of    563.\n",
      "  Batch   300  of    563.\n",
      "  Batch   400  of    563.\n",
      "  Batch   500  of    563.\n",
      "  Average training loss: 0.1078\n",
      "Testing...\n",
      "  Test MRR:  0.7533\n",
      "  Test MAP:  0.3696\n",
      "  Test NDCG: 0.5218\n",
      "90\n",
      "======== Fold 3 / 5 ========\n",
      "MRR:  0.7611\n",
      "MAP:  0.3341\n",
      "NDCG: 0.4826\n",
      "135\n"
     ]
    },
    {
     "name": "stderr",
     "output_type": "stream",
     "text": [
      "Some weights of the model checkpoint at bert-base-uncased were not used when initializing BertForSequenceClassification: ['cls.seq_relationship.bias', 'cls.predictions.decoder.weight', 'cls.predictions.transform.LayerNorm.bias', 'cls.predictions.bias', 'cls.seq_relationship.weight', 'cls.predictions.transform.dense.bias', 'cls.predictions.transform.dense.weight', 'cls.predictions.transform.LayerNorm.weight']\n",
      "- This IS expected if you are initializing BertForSequenceClassification from the checkpoint of a model trained on another task or with another architecture (e.g. initializing a BertForSequenceClassification model from a BertForPreTraining model).\n",
      "- This IS NOT expected if you are initializing BertForSequenceClassification from the checkpoint of a model that you expect to be exactly identical (initializing a BertForSequenceClassification model from a BertForSequenceClassification model).\n",
      "Some weights of BertForSequenceClassification were not initialized from the model checkpoint at bert-base-uncased and are newly initialized: ['classifier.weight', 'classifier.bias']\n",
      "You should probably TRAIN this model on a down-stream task to be able to use it for predictions and inference.\n"
     ]
    },
    {
     "name": "stdout",
     "output_type": "stream",
     "text": [
      "LOAD :  /home/jupyter/BERT-BM25-Thesis-Project/Models/BERT_Cranfield_MLM_model-128-16-5e-05-2.bin\n",
      "======== Epoch 1 / 2 ========\n",
      "Training...\n",
      "  Batch   100  of    563.\n",
      "  Batch   200  of    563.\n",
      "  Batch   300  of    563.\n",
      "  Batch   400  of    563.\n",
      "  Batch   500  of    563.\n",
      "  Average training loss: 0.1633\n",
      "======== Epoch 2 / 2 ========\n",
      "Training...\n",
      "  Batch   100  of    563.\n",
      "  Batch   200  of    563.\n",
      "  Batch   300  of    563.\n",
      "  Batch   400  of    563.\n",
      "  Batch   500  of    563.\n",
      "  Average training loss: 0.1133\n",
      "Testing...\n",
      "  Test MRR:  0.8504\n",
      "  Test MAP:  0.4425\n",
      "  Test NDCG: 0.5828\n",
      "135\n",
      "======== Fold 4 / 5 ========\n",
      "MRR:  0.6859\n",
      "MAP:  0.3317\n",
      "NDCG: 0.4408\n",
      "180\n"
     ]
    },
    {
     "name": "stderr",
     "output_type": "stream",
     "text": [
      "Some weights of the model checkpoint at bert-base-uncased were not used when initializing BertForSequenceClassification: ['cls.seq_relationship.bias', 'cls.predictions.decoder.weight', 'cls.predictions.transform.LayerNorm.bias', 'cls.predictions.bias', 'cls.seq_relationship.weight', 'cls.predictions.transform.dense.bias', 'cls.predictions.transform.dense.weight', 'cls.predictions.transform.LayerNorm.weight']\n",
      "- This IS expected if you are initializing BertForSequenceClassification from the checkpoint of a model trained on another task or with another architecture (e.g. initializing a BertForSequenceClassification model from a BertForPreTraining model).\n",
      "- This IS NOT expected if you are initializing BertForSequenceClassification from the checkpoint of a model that you expect to be exactly identical (initializing a BertForSequenceClassification model from a BertForSequenceClassification model).\n",
      "Some weights of BertForSequenceClassification were not initialized from the model checkpoint at bert-base-uncased and are newly initialized: ['classifier.weight', 'classifier.bias']\n",
      "You should probably TRAIN this model on a down-stream task to be able to use it for predictions and inference.\n"
     ]
    },
    {
     "name": "stdout",
     "output_type": "stream",
     "text": [
      "LOAD :  /home/jupyter/BERT-BM25-Thesis-Project/Models/BERT_Cranfield_MLM_model-128-16-5e-05-2.bin\n",
      "======== Epoch 1 / 2 ========\n",
      "Training...\n",
      "  Batch   100  of    563.\n",
      "  Batch   200  of    563.\n",
      "  Batch   300  of    563.\n",
      "  Batch   400  of    563.\n",
      "  Batch   500  of    563.\n",
      "  Average training loss: 0.1681\n",
      "======== Epoch 2 / 2 ========\n",
      "Training...\n",
      "  Batch   100  of    563.\n",
      "  Batch   200  of    563.\n",
      "  Batch   300  of    563.\n",
      "  Batch   400  of    563.\n",
      "  Batch   500  of    563.\n",
      "  Average training loss: 0.1128\n",
      "Testing...\n",
      "  Test MRR:  0.7557\n",
      "  Test MAP:  0.3938\n",
      "  Test NDCG: 0.4869\n",
      "180\n",
      "======== Fold 5 / 5 ========\n",
      "MRR:  0.7796\n",
      "MAP:  0.3182\n",
      "NDCG: 0.4780\n",
      "225\n"
     ]
    },
    {
     "name": "stderr",
     "output_type": "stream",
     "text": [
      "Some weights of the model checkpoint at bert-base-uncased were not used when initializing BertForSequenceClassification: ['cls.seq_relationship.bias', 'cls.predictions.decoder.weight', 'cls.predictions.transform.LayerNorm.bias', 'cls.predictions.bias', 'cls.seq_relationship.weight', 'cls.predictions.transform.dense.bias', 'cls.predictions.transform.dense.weight', 'cls.predictions.transform.LayerNorm.weight']\n",
      "- This IS expected if you are initializing BertForSequenceClassification from the checkpoint of a model trained on another task or with another architecture (e.g. initializing a BertForSequenceClassification model from a BertForPreTraining model).\n",
      "- This IS NOT expected if you are initializing BertForSequenceClassification from the checkpoint of a model that you expect to be exactly identical (initializing a BertForSequenceClassification model from a BertForSequenceClassification model).\n",
      "Some weights of BertForSequenceClassification were not initialized from the model checkpoint at bert-base-uncased and are newly initialized: ['classifier.weight', 'classifier.bias']\n",
      "You should probably TRAIN this model on a down-stream task to be able to use it for predictions and inference.\n"
     ]
    },
    {
     "name": "stdout",
     "output_type": "stream",
     "text": [
      "LOAD :  /home/jupyter/BERT-BM25-Thesis-Project/Models/BERT_Cranfield_MLM_model-128-16-5e-05-2.bin\n",
      "======== Epoch 1 / 2 ========\n",
      "Training...\n",
      "  Batch   100  of    563.\n",
      "  Batch   200  of    563.\n",
      "  Batch   300  of    563.\n",
      "  Batch   400  of    563.\n",
      "  Batch   500  of    563.\n",
      "  Average training loss: 0.1502\n",
      "======== Epoch 2 / 2 ========\n",
      "Training...\n",
      "  Batch   100  of    563.\n",
      "  Batch   200  of    563.\n",
      "  Batch   300  of    563.\n",
      "  Batch   400  of    563.\n",
      "  Batch   500  of    563.\n",
      "  Average training loss: 0.1024\n",
      "Testing...\n",
      "  Test MRR:  0.8568\n",
      "  Test MAP:  0.4317\n",
      "  Test NDCG: 0.5884\n",
      "225\n",
      "  BM25 MRR:  0.7340\n",
      "  BM25 MAP:  0.3274\n",
      "  BM25 NDCG: 0.4714\n",
      "  BERT MRR:  0.8117\n",
      "  BERT MAP:  0.4137\n",
      "  BERT NDCG: 0.5524\n",
      "p-value MRR: 0.0218\n",
      "p-value MAP: 0.0004\n",
      "p-value NDCG: 0.0012\n",
      "Time:  70.74727384016667  min\n"
     ]
    }
   ],
   "source": [
    "train_test()"
   ]
  },
  {
   "cell_type": "code",
   "execution_count": null,
   "metadata": {},
   "outputs": [],
   "source": []
  }
 ],
 "metadata": {
  "accelerator": "GPU",
  "colab": {
   "name": "enrich-trainingsets.ipynb",
   "provenance": [],
   "toc_visible": true
  },
  "environment": {
   "name": "common-cu110.m79",
   "type": "gcloud",
   "uri": "gcr.io/deeplearning-platform-release/base-cu110:m79"
  },
  "kernelspec": {
   "display_name": "Python 3",
   "language": "python",
   "name": "python3"
  },
  "language_info": {
   "codemirror_mode": {
    "name": "ipython",
    "version": 3
   },
   "file_extension": ".py",
   "mimetype": "text/x-python",
   "name": "python",
   "nbconvert_exporter": "python",
   "pygments_lexer": "ipython3",
   "version": "3.7.10"
  }
 },
 "nbformat": 4,
 "nbformat_minor": 4
}
